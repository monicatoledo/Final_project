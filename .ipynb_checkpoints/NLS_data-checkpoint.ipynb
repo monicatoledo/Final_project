{
 "cells": [
  {
   "cell_type": "code",
   "execution_count": 1,
   "metadata": {},
   "outputs": [],
   "source": [
    "import pandas as pd\n",
    "import numpy as np\n",
    "import matplotlib.pyplot as plt\n"
   ]
  },
  {
   "cell_type": "code",
   "execution_count": 2,
   "metadata": {},
   "outputs": [],
   "source": [
    "raw_data=pd.read_csv(\"../data.csv\")"
   ]
  },
  {
   "cell_type": "code",
   "execution_count": 3,
   "metadata": {},
   "outputs": [
    {
     "name": "stdout",
     "output_type": "stream",
     "text": [
      "   id  year  gender  country_birth  age  race  region  marital_status  \\\n",
      "0   1  1979       2              1   20     3       1               1   \n",
      "1   1  1980       2              1   21     3      -5              -5   \n",
      "2   1  1981       2              1   22     3       1               1   \n",
      "3   1  1982       2              1   23     3      -5              -5   \n",
      "4   1  1983       2              1   24     3      -5              -5   \n",
      "\n",
      "   highest_grade  employment_status  main_job_num  tenure  total_jobs  \\\n",
      "0             12                  1             2      41         2.0   \n",
      "1             -4                 -5            -4      -4         2.0   \n",
      "2             12                  1             2     162         2.0   \n",
      "3             -4                 -5            -4      -4         2.0   \n",
      "4             -4                 -5            -4      -4         2.0   \n",
      "\n",
      "   pay_rate  hourly_wage  occupation_main  industry  sample_id  \n",
      "0     12500          328              325        -4          5  \n",
      "1        -4           -4               -5        -4          5  \n",
      "2     27500          361               -4        -4          5  \n",
      "3        -4           -4               -5        -4          5  \n",
      "4        -4           -4               -5        -4          5  \n"
     ]
    }
   ],
   "source": [
    "print(raw_data.head())\n"
   ]
  },
  {
   "cell_type": "code",
   "execution_count": 4,
   "metadata": {},
   "outputs": [
    {
     "data": {
      "text/plain": [
       "Index(['id', 'year', 'gender', 'country_birth', 'age', 'race', 'region',\n",
       "       'marital_status', 'highest_grade', 'employment_status', 'main_job_num',\n",
       "       'tenure', 'total_jobs', 'pay_rate', 'hourly_wage', 'occupation_main',\n",
       "       'industry', 'sample_id'],\n",
       "      dtype='object')"
      ]
     },
     "execution_count": 4,
     "metadata": {},
     "output_type": "execute_result"
    }
   ],
   "source": [
    "raw_data.columns"
   ]
  },
  {
   "cell_type": "code",
   "execution_count": null,
   "metadata": {},
   "outputs": [],
   "source": [
    "import sklearn"
   ]
  }
 ],
 "metadata": {
  "kernelspec": {
   "display_name": "Python 3",
   "language": "python",
   "name": "python3"
  },
  "language_info": {
   "codemirror_mode": {
    "name": "ipython",
    "version": 3
   },
   "file_extension": ".py",
   "mimetype": "text/x-python",
   "name": "python",
   "nbconvert_exporter": "python",
   "pygments_lexer": "ipython3",
   "version": "3.6.5"
  }
 },
 "nbformat": 4,
 "nbformat_minor": 2
}
