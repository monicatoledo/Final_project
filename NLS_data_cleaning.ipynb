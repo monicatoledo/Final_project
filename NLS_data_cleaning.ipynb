{
 "cells": [
  {
   "cell_type": "code",
   "execution_count": 1,
   "metadata": {},
   "outputs": [],
   "source": [
    "import pandas as pd\n",
    "import numpy as np\n",
    "import matplotlib.pyplot as plt"
   ]
  },
  {
   "cell_type": "code",
   "execution_count": 2,
   "metadata": {},
   "outputs": [],
   "source": [
    "raw_data=pd.read_csv(\"./data.csv\")"
   ]
  },
  {
   "cell_type": "code",
   "execution_count": 3,
   "metadata": {},
   "outputs": [
    {
     "name": "stdout",
     "output_type": "stream",
     "text": [
      "   id  year  gender  country_birth  age  race  region  marital_status  \\\n",
      "0   1  1979       2              1   20     3       1               1   \n",
      "1   1  1980       2              1   21     3      -5              -5   \n",
      "2   1  1981       2              1   22     3       1               1   \n",
      "3   1  1982       2              1   23     3      -5              -5   \n",
      "4   1  1983       2              1   24     3      -5              -5   \n",
      "\n",
      "   highest_grade  employment_status  main_job_num  tenure  total_jobs  \\\n",
      "0             12                  1             2      41         2.0   \n",
      "1             -4                 -5            -4      -4         2.0   \n",
      "2             12                  1             2     162         2.0   \n",
      "3             -4                 -5            -4      -4         2.0   \n",
      "4             -4                 -5            -4      -4         2.0   \n",
      "\n",
      "   pay_rate  hourly_wage  occupation_main  industry  sample_id  \n",
      "0     12500          328              325        -4          5  \n",
      "1        -4           -4               -5        -4          5  \n",
      "2     27500          361               -4        -4          5  \n",
      "3        -4           -4               -5        -4          5  \n",
      "4        -4           -4               -5        -4          5  \n"
     ]
    }
   ],
   "source": [
    "print(raw_data.head())\n"
   ]
  },
  {
   "cell_type": "code",
   "execution_count": 4,
   "metadata": {},
   "outputs": [
    {
     "data": {
      "text/plain": [
       "Index(['id', 'year', 'gender', 'country_birth', 'age', 'race', 'region',\n",
       "       'marital_status', 'highest_grade', 'employment_status', 'main_job_num',\n",
       "       'tenure', 'total_jobs', 'pay_rate', 'hourly_wage', 'occupation_main',\n",
       "       'industry', 'sample_id'],\n",
       "      dtype='object')"
      ]
     },
     "execution_count": 4,
     "metadata": {},
     "output_type": "execute_result"
    }
   ],
   "source": [
    "raw_data.columns"
   ]
  },
  {
   "cell_type": "code",
   "execution_count": null,
   "metadata": {},
   "outputs": [],
   "source": []
  },
  {
   "cell_type": "code",
   "execution_count": 5,
   "metadata": {},
   "outputs": [
    {
     "data": {
      "text/plain": [
       "329836"
      ]
     },
     "execution_count": 5,
     "metadata": {},
     "output_type": "execute_result"
    }
   ],
   "source": [
    "## CLEAN THE DATA\n",
    "df_data = raw_data[:]\n",
    "df_data = df_data.fillna(0)\n",
    "len(df_data)"
   ]
  },
  {
   "cell_type": "code",
   "execution_count": 6,
   "metadata": {},
   "outputs": [],
   "source": [
    "# Output: \"hourly_wage\"\n",
    "# Delete all negative values"
   ]
  },
  {
   "cell_type": "code",
   "execution_count": 7,
   "metadata": {},
   "outputs": [],
   "source": [
    "NULL = pd.to_numeric(\"\")\n",
    "df_data[\"hourly_wage\"] = df_data[\"hourly_wage\"].replace({-4 : NULL})"
   ]
  },
  {
   "cell_type": "code",
   "execution_count": 8,
   "metadata": {},
   "outputs": [
    {
     "data": {
      "text/plain": [
       "191220"
      ]
     },
     "execution_count": 8,
     "metadata": {},
     "output_type": "execute_result"
    }
   ],
   "source": [
    "df_data = df_data.dropna(how=\"any\")\n",
    "len(df_data)"
   ]
  },
  {
   "cell_type": "code",
   "execution_count": 9,
   "metadata": {},
   "outputs": [
    {
     "data": {
      "text/html": [
       "<div>\n",
       "<style scoped>\n",
       "    .dataframe tbody tr th:only-of-type {\n",
       "        vertical-align: middle;\n",
       "    }\n",
       "\n",
       "    .dataframe tbody tr th {\n",
       "        vertical-align: top;\n",
       "    }\n",
       "\n",
       "    .dataframe thead th {\n",
       "        text-align: right;\n",
       "    }\n",
       "</style>\n",
       "<table border=\"1\" class=\"dataframe\">\n",
       "  <thead>\n",
       "    <tr style=\"text-align: right;\">\n",
       "      <th></th>\n",
       "      <th>id</th>\n",
       "      <th>year</th>\n",
       "      <th>gender</th>\n",
       "      <th>country_birth</th>\n",
       "      <th>age</th>\n",
       "      <th>race</th>\n",
       "      <th>region</th>\n",
       "      <th>marital_status</th>\n",
       "      <th>highest_grade</th>\n",
       "      <th>employment_status</th>\n",
       "      <th>main_job_num</th>\n",
       "      <th>tenure</th>\n",
       "      <th>total_jobs</th>\n",
       "      <th>pay_rate</th>\n",
       "      <th>hourly_wage</th>\n",
       "      <th>occupation_main</th>\n",
       "      <th>industry</th>\n",
       "      <th>sample_id</th>\n",
       "    </tr>\n",
       "  </thead>\n",
       "  <tbody>\n",
       "    <tr>\n",
       "      <th>0</th>\n",
       "      <td>1</td>\n",
       "      <td>1979</td>\n",
       "      <td>2</td>\n",
       "      <td>1</td>\n",
       "      <td>20</td>\n",
       "      <td>3</td>\n",
       "      <td>1</td>\n",
       "      <td>1</td>\n",
       "      <td>12</td>\n",
       "      <td>1</td>\n",
       "      <td>2</td>\n",
       "      <td>41</td>\n",
       "      <td>2.0</td>\n",
       "      <td>12500</td>\n",
       "      <td>328.0</td>\n",
       "      <td>325</td>\n",
       "      <td>-4</td>\n",
       "      <td>5</td>\n",
       "    </tr>\n",
       "    <tr>\n",
       "      <th>2</th>\n",
       "      <td>1</td>\n",
       "      <td>1981</td>\n",
       "      <td>2</td>\n",
       "      <td>1</td>\n",
       "      <td>22</td>\n",
       "      <td>3</td>\n",
       "      <td>1</td>\n",
       "      <td>1</td>\n",
       "      <td>12</td>\n",
       "      <td>1</td>\n",
       "      <td>2</td>\n",
       "      <td>162</td>\n",
       "      <td>2.0</td>\n",
       "      <td>27500</td>\n",
       "      <td>361.0</td>\n",
       "      <td>-4</td>\n",
       "      <td>-4</td>\n",
       "      <td>5</td>\n",
       "    </tr>\n",
       "    <tr>\n",
       "      <th>26</th>\n",
       "      <td>2</td>\n",
       "      <td>1979</td>\n",
       "      <td>2</td>\n",
       "      <td>2</td>\n",
       "      <td>20</td>\n",
       "      <td>3</td>\n",
       "      <td>1</td>\n",
       "      <td>1</td>\n",
       "      <td>9</td>\n",
       "      <td>1</td>\n",
       "      <td>1</td>\n",
       "      <td>42</td>\n",
       "      <td>3.0</td>\n",
       "      <td>13500</td>\n",
       "      <td>385.0</td>\n",
       "      <td>305</td>\n",
       "      <td>-4</td>\n",
       "      <td>5</td>\n",
       "    </tr>\n",
       "    <tr>\n",
       "      <th>27</th>\n",
       "      <td>2</td>\n",
       "      <td>1980</td>\n",
       "      <td>2</td>\n",
       "      <td>2</td>\n",
       "      <td>21</td>\n",
       "      <td>3</td>\n",
       "      <td>1</td>\n",
       "      <td>1</td>\n",
       "      <td>9</td>\n",
       "      <td>1</td>\n",
       "      <td>1</td>\n",
       "      <td>95</td>\n",
       "      <td>3.0</td>\n",
       "      <td>16000</td>\n",
       "      <td>457.0</td>\n",
       "      <td>-4</td>\n",
       "      <td>-4</td>\n",
       "      <td>5</td>\n",
       "    </tr>\n",
       "    <tr>\n",
       "      <th>28</th>\n",
       "      <td>2</td>\n",
       "      <td>1981</td>\n",
       "      <td>2</td>\n",
       "      <td>2</td>\n",
       "      <td>22</td>\n",
       "      <td>3</td>\n",
       "      <td>1</td>\n",
       "      <td>1</td>\n",
       "      <td>9</td>\n",
       "      <td>1</td>\n",
       "      <td>1</td>\n",
       "      <td>146</td>\n",
       "      <td>3.0</td>\n",
       "      <td>18000</td>\n",
       "      <td>514.0</td>\n",
       "      <td>-4</td>\n",
       "      <td>-4</td>\n",
       "      <td>5</td>\n",
       "    </tr>\n",
       "  </tbody>\n",
       "</table>\n",
       "</div>"
      ],
      "text/plain": [
       "    id  year  gender  country_birth  age  race  region  marital_status  \\\n",
       "0    1  1979       2              1   20     3       1               1   \n",
       "2    1  1981       2              1   22     3       1               1   \n",
       "26   2  1979       2              2   20     3       1               1   \n",
       "27   2  1980       2              2   21     3       1               1   \n",
       "28   2  1981       2              2   22     3       1               1   \n",
       "\n",
       "    highest_grade  employment_status  main_job_num  tenure  total_jobs  \\\n",
       "0              12                  1             2      41         2.0   \n",
       "2              12                  1             2     162         2.0   \n",
       "26              9                  1             1      42         3.0   \n",
       "27              9                  1             1      95         3.0   \n",
       "28              9                  1             1     146         3.0   \n",
       "\n",
       "    pay_rate  hourly_wage  occupation_main  industry  sample_id  \n",
       "0      12500        328.0              325        -4          5  \n",
       "2      27500        361.0               -4        -4          5  \n",
       "26     13500        385.0              305        -4          5  \n",
       "27     16000        457.0               -4        -4          5  \n",
       "28     18000        514.0               -4        -4          5  "
      ]
     },
     "execution_count": 9,
     "metadata": {},
     "output_type": "execute_result"
    }
   ],
   "source": [
    "df_data.head()"
   ]
  },
  {
   "cell_type": "code",
   "execution_count": 10,
   "metadata": {},
   "outputs": [],
   "source": [
    "# Input-1: \"gender\"\n",
    "# 1: male\n",
    "# 2: female"
   ]
  },
  {
   "cell_type": "code",
   "execution_count": 11,
   "metadata": {},
   "outputs": [],
   "source": [
    "df_data[\"male\"] = df_data[\"gender\"] % 2\n",
    "df_data[\"female\"] = df_data[\"gender\"] - 1"
   ]
  },
  {
   "cell_type": "code",
   "execution_count": 12,
   "metadata": {},
   "outputs": [],
   "source": [
    "# Input-2: \"country_birth\"\n",
    "# 1: US\n",
    "# 2: others"
   ]
  },
  {
   "cell_type": "code",
   "execution_count": 13,
   "metadata": {},
   "outputs": [],
   "source": [
    "df_data[\"country_birth_US\"] = (df_data[\"country_birth\"] == 1)"
   ]
  },
  {
   "cell_type": "code",
   "execution_count": 14,
   "metadata": {},
   "outputs": [],
   "source": [
    "# Input-3: \"age\""
   ]
  },
  {
   "cell_type": "code",
   "execution_count": 15,
   "metadata": {},
   "outputs": [],
   "source": [
    "# \"age\" ranges from 14~57\n",
    "df_data[\"age_45+\"]   = np.floor(df_data[\"age\"]/45)\n",
    "df_data[\"age_30-45\"] = np.floor(df_data[\"age\"]/30) - df_data[\"age_45+\"]\n",
    "df_data[\"age_30-\"]   = 1 - (df_data[\"age_45+\"] + df_data[\"age_30-45\"])\n"
   ]
  },
  {
   "cell_type": "code",
   "execution_count": 16,
   "metadata": {},
   "outputs": [],
   "source": [
    "# Input-4: \"race\"\n",
    "# 1 HISPANIC\n",
    "# 2 BLACK\n",
    "# 3 NON-BLACK, NON-HISPANIC"
   ]
  },
  {
   "cell_type": "code",
   "execution_count": 17,
   "metadata": {},
   "outputs": [],
   "source": [
    "df_data[\"race_hispanic\"] = df_data[\"race\"] % 3 % 2\n",
    "df_data[\"race_black\"]    = (df_data[\"race\"] - 1) % 2\n",
    "df_data[\"race_others\"]   = np.floor(df_data[\"race\"] / 3)"
   ]
  },
  {
   "cell_type": "code",
   "execution_count": 18,
   "metadata": {},
   "outputs": [],
   "source": [
    "# Input-5: \"region\"\n",
    "# 1 NORTHEAST\n",
    "# 2 NORTH CENTRAL\n",
    "# 3 SOUTH\n",
    "# 4 WEST"
   ]
  },
  {
   "cell_type": "code",
   "execution_count": 19,
   "metadata": {},
   "outputs": [],
   "source": [
    "df_data[\"region_northeast\"]    = (df_data[\"region\"] == 1)\n",
    "df_data[\"region_northcentral\"] = (df_data[\"region\"] == 2)\n",
    "df_data[\"region_south\"]        = (df_data[\"region\"] == 3)\n",
    "df_data[\"region_west\"]         = (df_data[\"region\"] == 4)\n",
    "df_data[\"region_unknown\"]      = ((df_data[\"region\"] != 1) & \n",
    "                                  (df_data[\"region\"] != 2) & \n",
    "                                  (df_data[\"region\"] != 3) & \n",
    "                                  (df_data[\"region\"] != 4))"
   ]
  },
  {
   "cell_type": "code",
   "execution_count": 20,
   "metadata": {},
   "outputs": [],
   "source": [
    "# Input-6: \"marital_status\"\n",
    "# 1 NEVER MARRIED\n",
    "# 2 MARRIED, SPOUSE PRESENT\n",
    "# 3 OTHER"
   ]
  },
  {
   "cell_type": "code",
   "execution_count": 21,
   "metadata": {},
   "outputs": [],
   "source": [
    "df_data[\"marital_never\"]          = (df_data[\"marital_status\"] == 1)\n",
    "df_data[\"marital_spouse_present\"] = (df_data[\"marital_status\"] == 2)\n",
    "df_data[\"marital_others\"]         = ((df_data[\"marital_status\"] != 1) & (df_data[\"marital_status\"] != 2))"
   ]
  },
  {
   "cell_type": "code",
   "execution_count": 22,
   "metadata": {},
   "outputs": [],
   "source": [
    "# Input-7: \"highest_grade\"\n",
    "#  0 NONE\n",
    "# 93 PRE-KINDERGARTEN\n",
    "# 94 KINDERGARTEN\n",
    "#  1 1ST GRADE\n",
    "#  2 2ND GRADE\n",
    "#  3 3RD GRADE\n",
    "#  4 4TH GRADE\n",
    "#  5 5TH GRADE\n",
    "#  6 6TH GRADE\n",
    "#  7 7TH GRADE\n",
    "#  8 8TH GRADE\n",
    "#  9 9TH GRADE\n",
    "# 10 10TH GRADE\n",
    "# 11 11TH GRADE\n",
    "# 12 12TH GRADE\n",
    "# 13 1ST YR COL\n",
    "# 14 2ND YR COL\n",
    "# 15 3RD YR COL\n",
    "# 16 4TH YR COL\n",
    "# 17 5TH YR COL\n",
    "# 18 6TH YR COL\n",
    "# 19 7TH YR COL\n",
    "# 20 8TH YR COL OR MORE\n",
    "# 95 UNGRADED"
   ]
  },
  {
   "cell_type": "code",
   "execution_count": 23,
   "metadata": {},
   "outputs": [],
   "source": [
    "df_data[\"edu_highschool-\"]    = (((df_data[\"highest_grade\"] >= 0) & (df_data[\"highest_grade\"] <= 8)) |\n",
    "                                 (df_data[\"highest_grade\"] > 90))\n",
    "df_data[\"edu_highschool\"]     = ((df_data[\"highest_grade\"] >= 9) & (df_data[\"highest_grade\"] <= 12))\n",
    "df_data[\"edu_undergraduate\"]  = ((df_data[\"highest_grade\"] >= 13) & (df_data[\"highest_grade\"] <= 16))\n",
    "df_data[\"edu_undergraduate+\"] = ((df_data[\"highest_grade\"] >= 17) & (df_data[\"highest_grade\"] <= 20))\n",
    "df_data[\"edu_unknown\"]        = (df_data[\"highest_grade\"] < 0)"
   ]
  },
  {
   "cell_type": "code",
   "execution_count": 24,
   "metadata": {},
   "outputs": [],
   "source": [
    "# Input-8: \"employment_status\"\n",
    "# 1 EMPLOYED\n",
    "# 2 UNEMPLOYED\n",
    "# 3 OUT OF LABOR FORCE\n",
    "# 4 IN ACTIVE FORCES"
   ]
  },
  {
   "cell_type": "code",
   "execution_count": 25,
   "metadata": {},
   "outputs": [],
   "source": [
    "df_data[\"employment_employed\"]       = (df_data[\"employment_status\"] == 1)\n",
    "df_data[\"employment_unemployed\"]     = (df_data[\"employment_status\"] == 2)\n",
    "df_data[\"employment_out_laborforce\"] = (df_data[\"employment_status\"] == 3)\n",
    "df_data[\"employment_active\"]         = (df_data[\"employment_status\"] == 4)\n",
    "df_data[\"employment_unknown\"]        = (df_data[\"employment_status\"] <= 0)"
   ]
  },
  {
   "cell_type": "code",
   "execution_count": 26,
   "metadata": {},
   "outputs": [],
   "source": [
    "# Input-9: \"tenure\"\n",
    "# three months-:  0-12\n",
    "# two years:     13-104\n",
    "# five years:   105-260\n",
    "# ten years:    261-520\n",
    "# ten years+ :  521+\n",
    "# others(unknown) : -4"
   ]
  },
  {
   "cell_type": "code",
   "execution_count": 27,
   "metadata": {},
   "outputs": [],
   "source": [
    "df_data[\"tenure_3m\"]      = ((df_data[\"tenure\"] >= 0) & (df_data[\"tenure\"] <= 12))\n",
    "df_data[\"tenure_2y\"]      = ((df_data[\"tenure\"] >= 13) & (df_data[\"tenure\"] <= 104))\n",
    "df_data[\"tenure_5y\"]      = ((df_data[\"tenure\"] >= 105) & (df_data[\"tenure\"] <= 260))\n",
    "df_data[\"tenure_10y\"]     = ((df_data[\"tenure\"] >= 261) & (df_data[\"tenure\"] <= 520))\n",
    "df_data[\"tenure_10y+\"]    = (df_data[\"tenure\"] >= 521)\n",
    "df_data[\"tenure_unknown\"] = (df_data[\"tenure\"] < 0)"
   ]
  },
  {
   "cell_type": "code",
   "execution_count": 28,
   "metadata": {},
   "outputs": [],
   "source": [
    "# Input-10: \"total_jobs\""
   ]
  },
  {
   "cell_type": "code",
   "execution_count": 29,
   "metadata": {},
   "outputs": [],
   "source": [
    "df_data[\"jobs_2-\"]      = ((df_data[\"total_jobs\"] > 0) & (df_data[\"total_jobs\"] <= 2))\n",
    "df_data[\"jobs_5\"]       = ((df_data[\"total_jobs\"] > 2) & (df_data[\"total_jobs\"] <= 5))\n",
    "df_data[\"jobs_10\"]      = ((df_data[\"total_jobs\"] > 5) & (df_data[\"total_jobs\"] <= 10))\n",
    "df_data[\"jobs_10+\"]     = (df_data[\"total_jobs\"] > 10)\n",
    "df_data[\"jobs_unknown\"] = (df_data[\"total_jobs\"] <= 0)"
   ]
  },
  {
   "cell_type": "code",
   "execution_count": 30,
   "metadata": {},
   "outputs": [],
   "source": [
    "# Input-11: \"occupation_main\"\n",
    "# technologist:         001-195, 1000-1960 (excl. 1800-1860)\n",
    "# sales:                260-285, 4700-4960\n",
    "# social science:       301-395, 1800-1860, 2000-2550\n",
    "# manufacturing worker: 401-575, 601-715, 740-785, 6200-9750\n",
    "# armed force:          580-590, 9840\n",
    "# farmer:               801-802, 821-824, 6000-6130\n",
    "# general services:     901-984, 3700-5930 (excl. 4700-4960), 7800-8960\n",
    "# management:           201-245, 10-950 (excl. above)\n",
    "# entertainment&sports: 2600-2960\n",
    "# health care:          3000-3650\n"
   ]
  },
  {
   "cell_type": "code",
   "execution_count": 31,
   "metadata": {},
   "outputs": [],
   "source": [
    "df_data[\"occupation_tech\"] = (((df_data[\"occupation_main\"]>=1)&(df_data[\"occupation_main\"]<=195)) | \n",
    "                              ((df_data[\"occupation_main\"]>=1000)&(df_data[\"occupation_main\"]<1800)) | \n",
    "                              ((df_data[\"occupation_main\"]>1860)&(df_data[\"occupation_main\"]<=1960)))\n",
    "\n",
    "df_data[\"occupation_sales\"] = (((df_data[\"occupation_main\"]>=260)&(df_data[\"occupation_main\"]<=285)) | \n",
    "                               ((df_data[\"occupation_main\"]>=4700)&(df_data[\"occupation_main\"]<=4960)))\n",
    "\n",
    "df_data[\"occupation_social_science\"] = (((df_data[\"occupation_main\"]>=301)&(df_data[\"occupation_main\"]<=395)) | \n",
    "                                        ((df_data[\"occupation_main\"]>=1800)&(df_data[\"occupation_main\"]<=1860)) | \n",
    "                                        ((df_data[\"occupation_main\"]>=2000)&(df_data[\"occupation_main\"]<=2550)))\n",
    "\n",
    "df_data[\"occupation_manufacture_worker\"] = (((df_data[\"occupation_main\"]>=401)&(df_data[\"occupation_main\"]<=575)) | \n",
    "                                            ((df_data[\"occupation_main\"]>=601)&(df_data[\"occupation_main\"]<=715)) | \n",
    "                                            ((df_data[\"occupation_main\"]>=740)&(df_data[\"occupation_main\"]<=785)) | \n",
    "                                            ((df_data[\"occupation_main\"]>=6200)&(df_data[\"occupation_main\"]<=9750)))\n",
    "\n",
    "df_data[\"occupation_military\"] = (((df_data[\"occupation_main\"]>=580)&(df_data[\"occupation_main\"]<=590)) | \n",
    "                                  (df_data[\"occupation_main\"]==9840))\n",
    "\n",
    "df_data[\"occupation_farmer\"] = (((df_data[\"occupation_main\"]>=801)&(df_data[\"occupation_main\"]<=802)) | \n",
    "                                ((df_data[\"occupation_main\"]>=821)&(df_data[\"occupation_main\"]<=824)) | \n",
    "                                ((df_data[\"occupation_main\"]>=6000)&(df_data[\"occupation_main\"]<=6130)))\n",
    "\n",
    "df_data[\"occupation_service\"] = (((df_data[\"occupation_main\"]>=901)&(df_data[\"occupation_main\"]<=984)) | \n",
    "                                 ((df_data[\"occupation_main\"]>=3700)&(df_data[\"occupation_main\"]<4700)) | \n",
    "                                 ((df_data[\"occupation_main\"]>4960)&(df_data[\"occupation_main\"]<=5930)) | \n",
    "                                 ((df_data[\"occupation_main\"]>=7800)&(df_data[\"occupation_main\"]<=8960)))\n",
    "\n",
    "df_data[\"occupation_management\"] = (((df_data[\"occupation_main\"]>=196)&(df_data[\"occupation_main\"]<=259)) | \n",
    "                                    ((df_data[\"occupation_main\"]>=286)&(df_data[\"occupation_main\"]<=300)) | \n",
    "                                    ((df_data[\"occupation_main\"]>=396)&(df_data[\"occupation_main\"]<=400)) | \n",
    "                                    ((df_data[\"occupation_main\"]>=576)&(df_data[\"occupation_main\"]<=579)) | \n",
    "                                    ((df_data[\"occupation_main\"]>=591)&(df_data[\"occupation_main\"]<=800)) | \n",
    "                                    ((df_data[\"occupation_main\"]>=803)&(df_data[\"occupation_main\"]<=820)) | \n",
    "                                    ((df_data[\"occupation_main\"]>=825)&(df_data[\"occupation_main\"]<=900)))\n",
    "\n",
    "df_data[\"occupation_entertainment\"] = ((df_data[\"occupation_main\"]>=2600)&(df_data[\"occupation_main\"]<=2960))\n",
    "\n",
    "df_data[\"occupation_healthcare\"] = ((df_data[\"occupation_main\"]>=3000)&(df_data[\"occupation_main\"]<=3650))\n",
    "\n",
    "df_data[\"occupation_unknown\"] = ((df_data[\"occupation_main\"]<=0) | (df_data[\"occupation_main\"]==9990))\n"
   ]
  },
  {
   "cell_type": "code",
   "execution_count": 32,
   "metadata": {},
   "outputs": [],
   "source": [
    "# input-12: \"industry\"\n",
    "# agriculture:               017-028, 170-290\n",
    "# mining:                    047-057, 370-490\n",
    "# manufacture:               067-077, 107-398, 770, 1070-3990\n",
    "# public service:            407-479, 570-690, 907-937, 7570-7790\n",
    "# trade:                     507-698, 4070-4590, 4670-5790, 6070-6390\n",
    "# finance:                   707-718, 6870-6990, 7070-7190\n",
    "# tech service:              727-759, 828-897, 6470-6780, 7270-7490\n",
    "# entertainment service:     807-809, 8560-8590\n",
    "# education:                 7860-7890\n",
    "# health care:               7970-8470\n",
    "# other service:             769-798, 8660-8690, 8770-9290\n",
    "# administration & military: 9370-9870, 9890\n"
   ]
  },
  {
   "cell_type": "code",
   "execution_count": 33,
   "metadata": {},
   "outputs": [],
   "source": [
    "df_data[\"industry_agriculture\"] = (((df_data[\"industry\"]>=17)&(df_data[\"industry\"]<=28)) | \n",
    "                                   ((df_data[\"industry\"]>=170)&(df_data[\"industry\"]<=290))) \n",
    "\n",
    "df_data[\"industry_mining\"] = (((df_data[\"industry\"]>=47)&(df_data[\"industry\"]<=57)) | \n",
    "                              ((df_data[\"industry\"]>=370)&(df_data[\"industry\"]<=490))) \n",
    "\n",
    "df_data[\"industry_manufacture\"] = (((df_data[\"industry\"]>=67)&(df_data[\"industry\"]<=77)) | \n",
    "                                   ((df_data[\"industry\"]>=107)&(df_data[\"industry\"]<=398)) |\n",
    "                                   (df_data[\"industry\"]==770) |\n",
    "                                   ((df_data[\"industry\"]>=1070)&(df_data[\"industry\"]<=3990)))\n",
    "\n",
    "df_data[\"industry_public_service\"] = (((df_data[\"industry\"]>=407)&(df_data[\"industry\"]<=479)) | \n",
    "                                      ((df_data[\"industry\"]>=570)&(df_data[\"industry\"]<=690)) |\n",
    "                                      ((df_data[\"industry\"]>=907)&(df_data[\"industry\"]<=937)) |\n",
    "                                      ((df_data[\"industry\"]>=7570)&(df_data[\"industry\"]<=7790)))\n",
    "\n",
    "df_data[\"industry_trade\"] = (((df_data[\"industry\"]>=507)&(df_data[\"industry\"]<=698)) | \n",
    "                             ((df_data[\"industry\"]>=4070)&(df_data[\"industry\"]<=4590)) |\n",
    "                             ((df_data[\"industry\"]>=4670)&(df_data[\"industry\"]<=5790)) |\n",
    "                             ((df_data[\"industry\"]>=6070)&(df_data[\"industry\"]<=6390)))\n",
    "\n",
    "df_data[\"industry_finance\"] = (((df_data[\"industry\"]>=707)&(df_data[\"industry\"]<=718)) | \n",
    "                             ((df_data[\"industry\"]>=6870)&(df_data[\"industry\"]<=6990)) |\n",
    "                             ((df_data[\"industry\"]>=7070)&(df_data[\"industry\"]<=7190)))\n",
    "\n",
    "df_data[\"industry_tech_service\"] = (((df_data[\"industry\"]>=727)&(df_data[\"industry\"]<=759)) | \n",
    "                                    ((df_data[\"industry\"]>=828)&(df_data[\"industry\"]<=897)) |\n",
    "                                    ((df_data[\"industry\"]>=6470)&(df_data[\"industry\"]<=6780)) |\n",
    "                                    ((df_data[\"industry\"]>=7270)&(df_data[\"industry\"]<=7490)))\n",
    "\n",
    "df_data[\"industry_entertainment\"] = (((df_data[\"industry\"]>=807)&(df_data[\"industry\"]<=809)) | \n",
    "                                     ((df_data[\"industry\"]>=8560)&(df_data[\"industry\"]<=8590)))\n",
    "\n",
    "df_data[\"industry_education\"] = ((df_data[\"industry\"]>=7860)&(df_data[\"industry\"]<=7890))\n",
    "\n",
    "df_data[\"industry_healthcare\"] = ((df_data[\"industry\"]>=7970)&(df_data[\"industry\"]<=8470))\n",
    "\n",
    "df_data[\"industry_other_service\"] = (((df_data[\"industry\"]>=769)&(df_data[\"industry\"]<=798)) | \n",
    "                                     ((df_data[\"industry\"]>=8660)&(df_data[\"industry\"]<=8690)) |\n",
    "                                     ((df_data[\"industry\"]>=8770)&(df_data[\"industry\"]<=9290)))\n",
    "\n",
    "df_data[\"industry_admin_military\"] = (((df_data[\"industry\"]>=9370)&(df_data[\"industry\"]<=9870)) | \n",
    "                                      (df_data[\"industry\"]==9890))\n",
    "\n",
    "df_data[\"industry_unknown\"] = ((df_data[\"industry\"]<=0) | (df_data[\"industry\"]==9990))\n"
   ]
  },
  {
   "cell_type": "code",
   "execution_count": 34,
   "metadata": {},
   "outputs": [],
   "source": [
    "# Delete useless columns\n",
    "del df_data[\"gender\"]\n",
    "del df_data[\"country_birth\"]\n",
    "del df_data[\"race\"]\n",
    "del df_data[\"region\"]\n",
    "del df_data[\"marital_status\"]\n",
    "del df_data[\"highest_grade\"]\n",
    "del df_data[\"employment_status\"]\n",
    "del df_data[\"main_job_num\"]\n",
    "del df_data[\"total_jobs\"]\n",
    "del df_data[\"pay_rate\"]\n",
    "del df_data[\"occupation_main\"]\n",
    "del df_data[\"industry\"]\n",
    "del df_data[\"sample_id\"]\n"
   ]
  },
  {
   "cell_type": "code",
   "execution_count": 35,
   "metadata": {},
   "outputs": [],
   "source": [
    "## CLEANED DATA\n",
    "df_data.to_csv(\"./data_cleaned.csv\")"
   ]
  },
  {
   "cell_type": "code",
   "execution_count": 36,
   "metadata": {},
   "outputs": [
    {
     "data": {
      "text/plain": [
       "191220"
      ]
     },
     "execution_count": 36,
     "metadata": {},
     "output_type": "execute_result"
    }
   ],
   "source": [
    "len(df_data)"
   ]
  },
  {
   "cell_type": "code",
   "execution_count": 37,
   "metadata": {},
   "outputs": [
    {
     "data": {
      "text/html": [
       "<div>\n",
       "<style scoped>\n",
       "    .dataframe tbody tr th:only-of-type {\n",
       "        vertical-align: middle;\n",
       "    }\n",
       "\n",
       "    .dataframe tbody tr th {\n",
       "        vertical-align: top;\n",
       "    }\n",
       "\n",
       "    .dataframe thead th {\n",
       "        text-align: right;\n",
       "    }\n",
       "</style>\n",
       "<table border=\"1\" class=\"dataframe\">\n",
       "  <thead>\n",
       "    <tr style=\"text-align: right;\">\n",
       "      <th></th>\n",
       "      <th>id</th>\n",
       "      <th>year</th>\n",
       "      <th>age</th>\n",
       "      <th>tenure</th>\n",
       "      <th>hourly_wage</th>\n",
       "      <th>male</th>\n",
       "      <th>female</th>\n",
       "      <th>country_birth_US</th>\n",
       "      <th>age_45+</th>\n",
       "      <th>age_30-45</th>\n",
       "      <th>...</th>\n",
       "      <th>industry_public_service</th>\n",
       "      <th>industry_trade</th>\n",
       "      <th>industry_finance</th>\n",
       "      <th>industry_tech_service</th>\n",
       "      <th>industry_entertainment</th>\n",
       "      <th>industry_education</th>\n",
       "      <th>industry_healthcare</th>\n",
       "      <th>industry_other_service</th>\n",
       "      <th>industry_admin_military</th>\n",
       "      <th>industry_unknown</th>\n",
       "    </tr>\n",
       "  </thead>\n",
       "  <tbody>\n",
       "    <tr>\n",
       "      <th>0</th>\n",
       "      <td>1</td>\n",
       "      <td>1979</td>\n",
       "      <td>20</td>\n",
       "      <td>41</td>\n",
       "      <td>328.0</td>\n",
       "      <td>0</td>\n",
       "      <td>1</td>\n",
       "      <td>True</td>\n",
       "      <td>0.0</td>\n",
       "      <td>0.0</td>\n",
       "      <td>...</td>\n",
       "      <td>False</td>\n",
       "      <td>False</td>\n",
       "      <td>False</td>\n",
       "      <td>False</td>\n",
       "      <td>False</td>\n",
       "      <td>False</td>\n",
       "      <td>False</td>\n",
       "      <td>False</td>\n",
       "      <td>False</td>\n",
       "      <td>True</td>\n",
       "    </tr>\n",
       "    <tr>\n",
       "      <th>2</th>\n",
       "      <td>1</td>\n",
       "      <td>1981</td>\n",
       "      <td>22</td>\n",
       "      <td>162</td>\n",
       "      <td>361.0</td>\n",
       "      <td>0</td>\n",
       "      <td>1</td>\n",
       "      <td>True</td>\n",
       "      <td>0.0</td>\n",
       "      <td>0.0</td>\n",
       "      <td>...</td>\n",
       "      <td>False</td>\n",
       "      <td>False</td>\n",
       "      <td>False</td>\n",
       "      <td>False</td>\n",
       "      <td>False</td>\n",
       "      <td>False</td>\n",
       "      <td>False</td>\n",
       "      <td>False</td>\n",
       "      <td>False</td>\n",
       "      <td>True</td>\n",
       "    </tr>\n",
       "    <tr>\n",
       "      <th>26</th>\n",
       "      <td>2</td>\n",
       "      <td>1979</td>\n",
       "      <td>20</td>\n",
       "      <td>42</td>\n",
       "      <td>385.0</td>\n",
       "      <td>0</td>\n",
       "      <td>1</td>\n",
       "      <td>False</td>\n",
       "      <td>0.0</td>\n",
       "      <td>0.0</td>\n",
       "      <td>...</td>\n",
       "      <td>False</td>\n",
       "      <td>False</td>\n",
       "      <td>False</td>\n",
       "      <td>False</td>\n",
       "      <td>False</td>\n",
       "      <td>False</td>\n",
       "      <td>False</td>\n",
       "      <td>False</td>\n",
       "      <td>False</td>\n",
       "      <td>True</td>\n",
       "    </tr>\n",
       "    <tr>\n",
       "      <th>27</th>\n",
       "      <td>2</td>\n",
       "      <td>1980</td>\n",
       "      <td>21</td>\n",
       "      <td>95</td>\n",
       "      <td>457.0</td>\n",
       "      <td>0</td>\n",
       "      <td>1</td>\n",
       "      <td>False</td>\n",
       "      <td>0.0</td>\n",
       "      <td>0.0</td>\n",
       "      <td>...</td>\n",
       "      <td>False</td>\n",
       "      <td>False</td>\n",
       "      <td>False</td>\n",
       "      <td>False</td>\n",
       "      <td>False</td>\n",
       "      <td>False</td>\n",
       "      <td>False</td>\n",
       "      <td>False</td>\n",
       "      <td>False</td>\n",
       "      <td>True</td>\n",
       "    </tr>\n",
       "    <tr>\n",
       "      <th>28</th>\n",
       "      <td>2</td>\n",
       "      <td>1981</td>\n",
       "      <td>22</td>\n",
       "      <td>146</td>\n",
       "      <td>514.0</td>\n",
       "      <td>0</td>\n",
       "      <td>1</td>\n",
       "      <td>False</td>\n",
       "      <td>0.0</td>\n",
       "      <td>0.0</td>\n",
       "      <td>...</td>\n",
       "      <td>False</td>\n",
       "      <td>False</td>\n",
       "      <td>False</td>\n",
       "      <td>False</td>\n",
       "      <td>False</td>\n",
       "      <td>False</td>\n",
       "      <td>False</td>\n",
       "      <td>False</td>\n",
       "      <td>False</td>\n",
       "      <td>True</td>\n",
       "    </tr>\n",
       "  </tbody>\n",
       "</table>\n",
       "<p>5 rows × 67 columns</p>\n",
       "</div>"
      ],
      "text/plain": [
       "    id  year  age  tenure  hourly_wage  male  female  country_birth_US  \\\n",
       "0    1  1979   20      41        328.0     0       1              True   \n",
       "2    1  1981   22     162        361.0     0       1              True   \n",
       "26   2  1979   20      42        385.0     0       1             False   \n",
       "27   2  1980   21      95        457.0     0       1             False   \n",
       "28   2  1981   22     146        514.0     0       1             False   \n",
       "\n",
       "    age_45+  age_30-45        ...         industry_public_service  \\\n",
       "0       0.0        0.0        ...                           False   \n",
       "2       0.0        0.0        ...                           False   \n",
       "26      0.0        0.0        ...                           False   \n",
       "27      0.0        0.0        ...                           False   \n",
       "28      0.0        0.0        ...                           False   \n",
       "\n",
       "    industry_trade  industry_finance  industry_tech_service  \\\n",
       "0            False             False                  False   \n",
       "2            False             False                  False   \n",
       "26           False             False                  False   \n",
       "27           False             False                  False   \n",
       "28           False             False                  False   \n",
       "\n",
       "    industry_entertainment  industry_education  industry_healthcare  \\\n",
       "0                    False               False                False   \n",
       "2                    False               False                False   \n",
       "26                   False               False                False   \n",
       "27                   False               False                False   \n",
       "28                   False               False                False   \n",
       "\n",
       "    industry_other_service  industry_admin_military  industry_unknown  \n",
       "0                    False                    False              True  \n",
       "2                    False                    False              True  \n",
       "26                   False                    False              True  \n",
       "27                   False                    False              True  \n",
       "28                   False                    False              True  \n",
       "\n",
       "[5 rows x 67 columns]"
      ]
     },
     "execution_count": 37,
     "metadata": {},
     "output_type": "execute_result"
    }
   ],
   "source": [
    "df_data.head()"
   ]
  },
  {
   "cell_type": "code",
   "execution_count": null,
   "metadata": {},
   "outputs": [],
   "source": []
  },
  {
   "cell_type": "code",
   "execution_count": 38,
   "metadata": {},
   "outputs": [],
   "source": [
    "# Delete useless columns - cont.\n",
    "del df_data[\"id\"]\n",
    "del df_data[\"year\"]\n",
    "del df_data[\"age\"]\n",
    "del df_data[\"tenure\"]\n"
   ]
  },
  {
   "cell_type": "code",
   "execution_count": 39,
   "metadata": {},
   "outputs": [],
   "source": [
    "### Check the Outlier data of \"hourly_wage\""
   ]
  },
  {
   "cell_type": "code",
   "execution_count": 40,
   "metadata": {
    "scrolled": true
   },
   "outputs": [
    {
     "data": {
      "text/plain": [
       "count    1.912200e+05\n",
       "mean     1.424549e+03\n",
       "std      2.675170e+04\n",
       "min      0.000000e+00\n",
       "25%      4.750000e+02\n",
       "50%      8.000000e+02\n",
       "75%      1.350000e+03\n",
       "max      6.000000e+06\n",
       "Name: hourly_wage, dtype: float64"
      ]
     },
     "execution_count": 40,
     "metadata": {},
     "output_type": "execute_result"
    }
   ],
   "source": [
    "ss_wage = df_data[\"hourly_wage\"]\n",
    "wage_stat = ss_wage.describe()\n",
    "wage_stat"
   ]
  },
  {
   "cell_type": "code",
   "execution_count": 41,
   "metadata": {},
   "outputs": [
    {
     "data": {
      "text/plain": [
       "10100.0"
      ]
     },
     "execution_count": 41,
     "metadata": {},
     "output_type": "execute_result"
    }
   ],
   "source": [
    "wage_q1     = wage_stat[\"25%\"]\n",
    "wage_q3     = wage_stat[\"75%\"]\n",
    "wage_median = wage_stat[\"50%\"]\n",
    "wage_iqr    = wage_q3 - wage_q1\n",
    "wage_upper  = wage_q3 + wage_iqr*10\n",
    "wage_lower  = 0\n",
    "wage_upper"
   ]
  },
  {
   "cell_type": "code",
   "execution_count": 42,
   "metadata": {},
   "outputs": [],
   "source": [
    "df_data2 = df_data[:]"
   ]
  },
  {
   "cell_type": "code",
   "execution_count": 43,
   "metadata": {},
   "outputs": [
    {
     "name": "stderr",
     "output_type": "stream",
     "text": [
      "/Users/Harper/anaconda3/lib/python3.6/site-packages/ipykernel_launcher.py:1: SettingWithCopyWarning: \n",
      "A value is trying to be set on a copy of a slice from a DataFrame.\n",
      "Try using .loc[row_indexer,col_indexer] = value instead\n",
      "\n",
      "See the caveats in the documentation: http://pandas.pydata.org/pandas-docs/stable/indexing.html#indexing-view-versus-copy\n",
      "  \"\"\"Entry point for launching an IPython kernel.\n"
     ]
    }
   ],
   "source": [
    "df_data2[\"wage_outlier\"] = ((df_data2[\"hourly_wage\"]<wage_lower) | (df_data2[\"hourly_wage\"]>wage_upper))"
   ]
  },
  {
   "cell_type": "code",
   "execution_count": 44,
   "metadata": {},
   "outputs": [
    {
     "name": "stderr",
     "output_type": "stream",
     "text": [
      "/Users/Harper/anaconda3/lib/python3.6/site-packages/ipykernel_launcher.py:1: SettingWithCopyWarning: \n",
      "A value is trying to be set on a copy of a slice from a DataFrame.\n",
      "Try using .loc[row_indexer,col_indexer] = value instead\n",
      "\n",
      "See the caveats in the documentation: http://pandas.pydata.org/pandas-docs/stable/indexing.html#indexing-view-versus-copy\n",
      "  \"\"\"Entry point for launching an IPython kernel.\n"
     ]
    }
   ],
   "source": [
    "df_data2[\"wage_outlier\"] = df_data2[\"wage_outlier\"].replace({True : NULL})"
   ]
  },
  {
   "cell_type": "code",
   "execution_count": 45,
   "metadata": {},
   "outputs": [
    {
     "data": {
      "text/plain": [
       "0.003723459889132936"
      ]
     },
     "execution_count": 45,
     "metadata": {},
     "output_type": "execute_result"
    }
   ],
   "source": [
    "df_data2 = df_data2.dropna(how=\"any\")\n",
    "outlier_rate = (len(df_data) - len(df_data2)) / len(df_data)\n",
    "outlier_rate"
   ]
  },
  {
   "cell_type": "code",
   "execution_count": 46,
   "metadata": {},
   "outputs": [
    {
     "data": {
      "image/png": "[encoded data removed]",
      "text/plain": [
       "<Figure size 432x288 with 1 Axes>"
      ]
     },
     "metadata": {},
     "output_type": "display_data"
    }
   ],
   "source": [
    "ss_wage_cleaned = df_data2[\"hourly_wage\"]\n",
    "plt.hist(ss_wage_cleaned, int(len(ss_wage_cleaned)/1000))\n",
    "plt.title(\"Distribution of Hourly Wage\")\n",
    "plt.xlabel(\"Hourly Wage($)\")\n",
    "plt.ylabel(\"Frequancy\")\n",
    "plt.grid()\n",
    "plt.savefig(\"HourlyWage_distribution.png\")\n",
    "plt.show()"
   ]
  },
  {
   "cell_type": "code",
   "execution_count": 47,
   "metadata": {},
   "outputs": [],
   "source": [
    "### Encoding the Output data: \"hourly_wage\""
   ]
  },
  {
   "cell_type": "code",
   "execution_count": 48,
   "metadata": {},
   "outputs": [],
   "source": [
    "df_data2[\"wage_q1_475\"]      = ((df_data2[\"hourly_wage\"]>=wage_lower) & (df_data2[\"hourly_wage\"]<=wage_q1))\n",
    "df_data2[\"wage_q2_800\"]      = ((df_data2[\"hourly_wage\"]>wage_q1) & (df_data2[\"hourly_wage\"]<=wage_median))\n",
    "df_data2[\"wage_q3_1350\"]     = ((df_data2[\"hourly_wage\"]>wage_median) & (df_data2[\"hourly_wage\"]<=wage_q3))\n",
    "df_data2[\"wage_q3+iqr_2662\"] = ((df_data2[\"hourly_wage\"]>wage_q3) & (df_data2[\"hourly_wage\"]<=2662))\n",
    "df_data2[\"wage_8000\"]        = ((df_data2[\"hourly_wage\"]>2662) & (df_data2[\"hourly_wage\"]<=8000))\n",
    "df_data2[\"wage_8000+\"]       = (df_data2[\"hourly_wage\"]>8000)\n"
   ]
  },
  {
   "cell_type": "code",
   "execution_count": 49,
   "metadata": {},
   "outputs": [],
   "source": [
    "del df_data2[\"hourly_wage\"]\n",
    "del df_data2[\"wage_outlier\"]"
   ]
  },
  {
   "cell_type": "code",
   "execution_count": 50,
   "metadata": {},
   "outputs": [
    {
     "data": {
      "text/html": [
       "<div>\n",
       "<style scoped>\n",
       "    .dataframe tbody tr th:only-of-type {\n",
       "        vertical-align: middle;\n",
       "    }\n",
       "\n",
       "    .dataframe tbody tr th {\n",
       "        vertical-align: top;\n",
       "    }\n",
       "\n",
       "    .dataframe thead th {\n",
       "        text-align: right;\n",
       "    }\n",
       "</style>\n",
       "<table border=\"1\" class=\"dataframe\">\n",
       "  <thead>\n",
       "    <tr style=\"text-align: right;\">\n",
       "      <th></th>\n",
       "      <th>male</th>\n",
       "      <th>female</th>\n",
       "      <th>country_birth_US</th>\n",
       "      <th>age_45+</th>\n",
       "      <th>age_30-45</th>\n",
       "      <th>age_30-</th>\n",
       "      <th>race_hispanic</th>\n",
       "      <th>race_black</th>\n",
       "      <th>race_others</th>\n",
       "      <th>region_northeast</th>\n",
       "      <th>...</th>\n",
       "      <th>industry_healthcare</th>\n",
       "      <th>industry_other_service</th>\n",
       "      <th>industry_admin_military</th>\n",
       "      <th>industry_unknown</th>\n",
       "      <th>wage_q1_475</th>\n",
       "      <th>wage_q2_800</th>\n",
       "      <th>wage_q3_1350</th>\n",
       "      <th>wage_q3+iqr_2662</th>\n",
       "      <th>wage_8000</th>\n",
       "      <th>wage_8000+</th>\n",
       "    </tr>\n",
       "  </thead>\n",
       "  <tbody>\n",
       "    <tr>\n",
       "      <th>0</th>\n",
       "      <td>0</td>\n",
       "      <td>1</td>\n",
       "      <td>True</td>\n",
       "      <td>0.0</td>\n",
       "      <td>0.0</td>\n",
       "      <td>1.0</td>\n",
       "      <td>0</td>\n",
       "      <td>0</td>\n",
       "      <td>1.0</td>\n",
       "      <td>True</td>\n",
       "      <td>...</td>\n",
       "      <td>False</td>\n",
       "      <td>False</td>\n",
       "      <td>False</td>\n",
       "      <td>True</td>\n",
       "      <td>True</td>\n",
       "      <td>False</td>\n",
       "      <td>False</td>\n",
       "      <td>False</td>\n",
       "      <td>False</td>\n",
       "      <td>False</td>\n",
       "    </tr>\n",
       "    <tr>\n",
       "      <th>2</th>\n",
       "      <td>0</td>\n",
       "      <td>1</td>\n",
       "      <td>True</td>\n",
       "      <td>0.0</td>\n",
       "      <td>0.0</td>\n",
       "      <td>1.0</td>\n",
       "      <td>0</td>\n",
       "      <td>0</td>\n",
       "      <td>1.0</td>\n",
       "      <td>True</td>\n",
       "      <td>...</td>\n",
       "      <td>False</td>\n",
       "      <td>False</td>\n",
       "      <td>False</td>\n",
       "      <td>True</td>\n",
       "      <td>True</td>\n",
       "      <td>False</td>\n",
       "      <td>False</td>\n",
       "      <td>False</td>\n",
       "      <td>False</td>\n",
       "      <td>False</td>\n",
       "    </tr>\n",
       "    <tr>\n",
       "      <th>26</th>\n",
       "      <td>0</td>\n",
       "      <td>1</td>\n",
       "      <td>False</td>\n",
       "      <td>0.0</td>\n",
       "      <td>0.0</td>\n",
       "      <td>1.0</td>\n",
       "      <td>0</td>\n",
       "      <td>0</td>\n",
       "      <td>1.0</td>\n",
       "      <td>True</td>\n",
       "      <td>...</td>\n",
       "      <td>False</td>\n",
       "      <td>False</td>\n",
       "      <td>False</td>\n",
       "      <td>True</td>\n",
       "      <td>True</td>\n",
       "      <td>False</td>\n",
       "      <td>False</td>\n",
       "      <td>False</td>\n",
       "      <td>False</td>\n",
       "      <td>False</td>\n",
       "    </tr>\n",
       "    <tr>\n",
       "      <th>27</th>\n",
       "      <td>0</td>\n",
       "      <td>1</td>\n",
       "      <td>False</td>\n",
       "      <td>0.0</td>\n",
       "      <td>0.0</td>\n",
       "      <td>1.0</td>\n",
       "      <td>0</td>\n",
       "      <td>0</td>\n",
       "      <td>1.0</td>\n",
       "      <td>True</td>\n",
       "      <td>...</td>\n",
       "      <td>False</td>\n",
       "      <td>False</td>\n",
       "      <td>False</td>\n",
       "      <td>True</td>\n",
       "      <td>True</td>\n",
       "      <td>False</td>\n",
       "      <td>False</td>\n",
       "      <td>False</td>\n",
       "      <td>False</td>\n",
       "      <td>False</td>\n",
       "    </tr>\n",
       "    <tr>\n",
       "      <th>28</th>\n",
       "      <td>0</td>\n",
       "      <td>1</td>\n",
       "      <td>False</td>\n",
       "      <td>0.0</td>\n",
       "      <td>0.0</td>\n",
       "      <td>1.0</td>\n",
       "      <td>0</td>\n",
       "      <td>0</td>\n",
       "      <td>1.0</td>\n",
       "      <td>True</td>\n",
       "      <td>...</td>\n",
       "      <td>False</td>\n",
       "      <td>False</td>\n",
       "      <td>False</td>\n",
       "      <td>True</td>\n",
       "      <td>False</td>\n",
       "      <td>True</td>\n",
       "      <td>False</td>\n",
       "      <td>False</td>\n",
       "      <td>False</td>\n",
       "      <td>False</td>\n",
       "    </tr>\n",
       "  </tbody>\n",
       "</table>\n",
       "<p>5 rows × 68 columns</p>\n",
       "</div>"
      ],
      "text/plain": [
       "    male  female  country_birth_US  age_45+  age_30-45  age_30-  \\\n",
       "0      0       1              True      0.0        0.0      1.0   \n",
       "2      0       1              True      0.0        0.0      1.0   \n",
       "26     0       1             False      0.0        0.0      1.0   \n",
       "27     0       1             False      0.0        0.0      1.0   \n",
       "28     0       1             False      0.0        0.0      1.0   \n",
       "\n",
       "    race_hispanic  race_black  race_others  region_northeast     ...      \\\n",
       "0               0           0          1.0              True     ...       \n",
       "2               0           0          1.0              True     ...       \n",
       "26              0           0          1.0              True     ...       \n",
       "27              0           0          1.0              True     ...       \n",
       "28              0           0          1.0              True     ...       \n",
       "\n",
       "    industry_healthcare  industry_other_service  industry_admin_military  \\\n",
       "0                 False                   False                    False   \n",
       "2                 False                   False                    False   \n",
       "26                False                   False                    False   \n",
       "27                False                   False                    False   \n",
       "28                False                   False                    False   \n",
       "\n",
       "    industry_unknown  wage_q1_475  wage_q2_800  wage_q3_1350  \\\n",
       "0               True         True        False         False   \n",
       "2               True         True        False         False   \n",
       "26              True         True        False         False   \n",
       "27              True         True        False         False   \n",
       "28              True        False         True         False   \n",
       "\n",
       "    wage_q3+iqr_2662  wage_8000  wage_8000+  \n",
       "0              False      False       False  \n",
       "2              False      False       False  \n",
       "26             False      False       False  \n",
       "27             False      False       False  \n",
       "28             False      False       False  \n",
       "\n",
       "[5 rows x 68 columns]"
      ]
     },
     "execution_count": 50,
     "metadata": {},
     "output_type": "execute_result"
    }
   ],
   "source": [
    "df_data2.head()"
   ]
  },
  {
   "cell_type": "code",
   "execution_count": 52,
   "metadata": {},
   "outputs": [],
   "source": [
    "## Input_Ready DATA\n",
    "df_data2.to_csv(\"./data_input.csv\", index=False)"
   ]
  },
  {
   "cell_type": "code",
   "execution_count": null,
   "metadata": {},
   "outputs": [],
   "source": []
  }
 ],
 "metadata": {
  "kernelspec": {
   "display_name": "Python 3",
   "language": "python",
   "name": "python3"
  },
  "language_info": {
   "codemirror_mode": {
    "name": "ipython",
    "version": 3
   },
   "file_extension": ".py",
   "mimetype": "text/x-python",
   "name": "python",
   "nbconvert_exporter": "python",
   "pygments_lexer": "ipython3",
   "version": "3.6.6"
  }
 },
 "nbformat": 4,
 "nbformat_minor": 2
}
