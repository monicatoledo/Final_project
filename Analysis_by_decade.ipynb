{
 "cells": [
  {
   "cell_type": "code",
   "execution_count": 1,
   "metadata": {},
   "outputs": [],
   "source": [
    "import pandas as pd\n",
    "import numpy as np\n",
    "import matplotlib.pyplot as plt\n",
    "from sklearn.cluster import KMeans\n",
    "from sklearn.model_selection import train_test_split\n",
    "from sklearn.linear_model import LinearRegression\n",
    "from sklearn.metrics import mean_squared_error\n",
    "from sklearn.linear_model import Lasso\n",
    "from sklearn.linear_model import LogisticRegression\n",
    "from sklearn.preprocessing import StandardScaler"
   ]
  },
  {
   "cell_type": "code",
   "execution_count": 2,
   "metadata": {},
   "outputs": [
    {
     "name": "stdout",
     "output_type": "stream",
     "text": [
      "   Unnamed: 0  id  year  age  tenure  hourly_wage  male  female  \\\n",
      "0           0   1  1979   20      41        328.0     0       1   \n",
      "1           2   1  1981   22     162        361.0     0       1   \n",
      "2          26   2  1979   20      42        385.0     0       1   \n",
      "3          27   2  1980   21      95        457.0     0       1   \n",
      "4          28   2  1981   22     146        514.0     0       1   \n",
      "\n",
      "   country_birth_US  age_45+        ...         industry_public_service  \\\n",
      "0              True      0.0        ...                           False   \n",
      "1              True      0.0        ...                           False   \n",
      "2             False      0.0        ...                           False   \n",
      "3             False      0.0        ...                           False   \n",
      "4             False      0.0        ...                           False   \n",
      "\n",
      "   industry_trade  industry_finance  industry_tech_service  \\\n",
      "0           False             False                  False   \n",
      "1           False             False                  False   \n",
      "2           False             False                  False   \n",
      "3           False             False                  False   \n",
      "4           False             False                  False   \n",
      "\n",
      "   industry_entertainment  industry_education  industry_healthcare  \\\n",
      "0                   False               False                False   \n",
      "1                   False               False                False   \n",
      "2                   False               False                False   \n",
      "3                   False               False                False   \n",
      "4                   False               False                False   \n",
      "\n",
      "   industry_other_service  industry_admin_military  industry_unknown  \n",
      "0                   False                    False              True  \n",
      "1                   False                    False              True  \n",
      "2                   False                    False              True  \n",
      "3                   False                    False              True  \n",
      "4                   False                    False              True  \n",
      "\n",
      "[5 rows x 68 columns]\n"
     ]
    }
   ],
   "source": [
    "data=pd.read_csv(\"data_cleaned.csv\")\n",
    "print(data.head())"
   ]
  },
  {
   "cell_type": "code",
   "execution_count": 14,
   "metadata": {},
   "outputs": [
    {
     "data": {
      "text/plain": [
       "Index(['Unnamed: 0', 'id', 'year', 'age', 'tenure', 'hourly_wage', 'male',\n",
       "       'female', 'country_birth_US', 'age_45+', 'age_30-45', 'age_30-',\n",
       "       'race_hispanic', 'race_black', 'race_others', 'region_northeast',\n",
       "       'region_northcentral', 'region_south', 'region_west', 'region_unknown',\n",
       "       'marital_never', 'marital_spouse_present', 'marital_others',\n",
       "       'edu_highschool-', 'edu_highschool', 'edu_undergraduate',\n",
       "       'edu_undergraduate+', 'edu_unknown', 'employment_employed',\n",
       "       'employment_unemployed', 'employment_out_laborforce',\n",
       "       'employment_active', 'employment_unknown', 'tenure_3m', 'tenure_2y',\n",
       "       'tenure_5y', 'tenure_10y', 'tenure_10y+', 'tenure_unknown', 'jobs_2-',\n",
       "       'jobs_5', 'jobs_10', 'jobs_10+', 'jobs_unknown', 'occupation_tech',\n",
       "       'occupation_sales', 'occupation_social_science',\n",
       "       'occupation_manufacture_worker', 'occupation_military',\n",
       "       'occupation_farmer', 'occupation_service', 'occupation_management',\n",
       "       'occupation_entertainment', 'occupation_healthcare',\n",
       "       'occupation_unknown', 'industry_agriculture', 'industry_mining',\n",
       "       'industry_manufacture', 'industry_public_service', 'industry_trade',\n",
       "       'industry_finance', 'industry_tech_service', 'industry_entertainment',\n",
       "       'industry_education', 'industry_healthcare', 'industry_other_service',\n",
       "       'industry_admin_military', 'industry_unknown', '80s', '90s', '00s'],\n",
       "      dtype='object')"
      ]
     },
     "execution_count": 14,
     "metadata": {},
     "output_type": "execute_result"
    }
   ],
   "source": [
    "data.columns"
   ]
  },
  {
   "cell_type": "code",
   "execution_count": 246,
   "metadata": {},
   "outputs": [
    {
     "data": {
      "text/html": [
       "<div>\n",
       "<style scoped>\n",
       "    .dataframe tbody tr th:only-of-type {\n",
       "        vertical-align: middle;\n",
       "    }\n",
       "\n",
       "    .dataframe tbody tr th {\n",
       "        vertical-align: top;\n",
       "    }\n",
       "\n",
       "    .dataframe thead th {\n",
       "        text-align: right;\n",
       "    }\n",
       "</style>\n",
       "<table border=\"1\" class=\"dataframe\">\n",
       "  <thead>\n",
       "    <tr style=\"text-align: right;\">\n",
       "      <th></th>\n",
       "      <th>industry_agriculture</th>\n",
       "      <th>industry_mining</th>\n",
       "      <th>industry_manufacture</th>\n",
       "      <th>industry_public_service</th>\n",
       "      <th>industry_trade</th>\n",
       "      <th>industry_finance</th>\n",
       "      <th>industry_tech_service</th>\n",
       "      <th>industry_entertainment</th>\n",
       "      <th>industry_education</th>\n",
       "      <th>industry_healthcare</th>\n",
       "      <th>industry_other_service</th>\n",
       "      <th>industry_admin_military</th>\n",
       "      <th>industry_unknown</th>\n",
       "    </tr>\n",
       "  </thead>\n",
       "  <tbody>\n",
       "    <tr>\n",
       "      <th>count</th>\n",
       "      <td>191220</td>\n",
       "      <td>191220</td>\n",
       "      <td>191220</td>\n",
       "      <td>191220</td>\n",
       "      <td>191220</td>\n",
       "      <td>191220</td>\n",
       "      <td>191220</td>\n",
       "      <td>191220</td>\n",
       "      <td>191220</td>\n",
       "      <td>191220</td>\n",
       "      <td>191220</td>\n",
       "      <td>191220</td>\n",
       "      <td>191220</td>\n",
       "    </tr>\n",
       "    <tr>\n",
       "      <th>unique</th>\n",
       "      <td>2</td>\n",
       "      <td>2</td>\n",
       "      <td>2</td>\n",
       "      <td>2</td>\n",
       "      <td>2</td>\n",
       "      <td>2</td>\n",
       "      <td>2</td>\n",
       "      <td>2</td>\n",
       "      <td>2</td>\n",
       "      <td>2</td>\n",
       "      <td>2</td>\n",
       "      <td>2</td>\n",
       "      <td>2</td>\n",
       "    </tr>\n",
       "    <tr>\n",
       "      <th>top</th>\n",
       "      <td>False</td>\n",
       "      <td>False</td>\n",
       "      <td>False</td>\n",
       "      <td>False</td>\n",
       "      <td>False</td>\n",
       "      <td>False</td>\n",
       "      <td>False</td>\n",
       "      <td>False</td>\n",
       "      <td>False</td>\n",
       "      <td>False</td>\n",
       "      <td>False</td>\n",
       "      <td>False</td>\n",
       "      <td>True</td>\n",
       "    </tr>\n",
       "    <tr>\n",
       "      <th>freq</th>\n",
       "      <td>189053</td>\n",
       "      <td>189211</td>\n",
       "      <td>179147</td>\n",
       "      <td>184105</td>\n",
       "      <td>181828</td>\n",
       "      <td>188268</td>\n",
       "      <td>183265</td>\n",
       "      <td>190458</td>\n",
       "      <td>188070</td>\n",
       "      <td>186262</td>\n",
       "      <td>184364</td>\n",
       "      <td>188797</td>\n",
       "      <td>136853</td>\n",
       "    </tr>\n",
       "  </tbody>\n",
       "</table>\n",
       "</div>"
      ],
      "text/plain": [
       "       industry_agriculture industry_mining industry_manufacture  \\\n",
       "count                191220          191220               191220   \n",
       "unique                    2               2                    2   \n",
       "top                   False           False                False   \n",
       "freq                 189053          189211               179147   \n",
       "\n",
       "       industry_public_service industry_trade industry_finance  \\\n",
       "count                   191220         191220           191220   \n",
       "unique                       2              2                2   \n",
       "top                      False          False            False   \n",
       "freq                    184105         181828           188268   \n",
       "\n",
       "       industry_tech_service industry_entertainment industry_education  \\\n",
       "count                 191220                 191220             191220   \n",
       "unique                     2                      2                  2   \n",
       "top                    False                  False              False   \n",
       "freq                  183265                 190458             188070   \n",
       "\n",
       "       industry_healthcare industry_other_service industry_admin_military  \\\n",
       "count               191220                 191220                  191220   \n",
       "unique                   2                      2                       2   \n",
       "top                  False                  False                   False   \n",
       "freq                186262                 184364                  188797   \n",
       "\n",
       "       industry_unknown  \n",
       "count            191220  \n",
       "unique                2  \n",
       "top                True  \n",
       "freq             136853  "
      ]
     },
     "execution_count": 246,
     "metadata": {},
     "output_type": "execute_result"
    }
   ],
   "source": [
    "data[['industry_agriculture', 'industry_mining',\n",
    "       'industry_manufacture', 'industry_public_service', 'industry_trade',\n",
    "       'industry_finance', 'industry_tech_service', 'industry_entertainment',\n",
    "       'industry_education', 'industry_healthcare', 'industry_other_service',\n",
    "       'industry_admin_military', 'industry_unknown']].describe()"
   ]
  },
  {
   "cell_type": "code",
   "execution_count": 255,
   "metadata": {},
   "outputs": [
    {
     "data": {
      "text/html": [
       "<div>\n",
       "<style scoped>\n",
       "    .dataframe tbody tr th:only-of-type {\n",
       "        vertical-align: middle;\n",
       "    }\n",
       "\n",
       "    .dataframe tbody tr th {\n",
       "        vertical-align: top;\n",
       "    }\n",
       "\n",
       "    .dataframe thead th {\n",
       "        text-align: right;\n",
       "    }\n",
       "</style>\n",
       "<table border=\"1\" class=\"dataframe\">\n",
       "  <thead>\n",
       "    <tr style=\"text-align: right;\">\n",
       "      <th></th>\n",
       "      <th>industry_agriculture</th>\n",
       "      <th>industry_mining</th>\n",
       "      <th>industry_manufacture</th>\n",
       "      <th>industry_public_service</th>\n",
       "      <th>industry_trade</th>\n",
       "      <th>industry_finance</th>\n",
       "      <th>industry_tech_service</th>\n",
       "      <th>industry_entertainment</th>\n",
       "      <th>industry_education</th>\n",
       "      <th>industry_healthcare</th>\n",
       "      <th>industry_other_service</th>\n",
       "      <th>industry_admin_military</th>\n",
       "      <th>industry_unknown</th>\n",
       "    </tr>\n",
       "  </thead>\n",
       "  <tbody>\n",
       "    <tr>\n",
       "      <th>count</th>\n",
       "      <td>52228</td>\n",
       "      <td>52228</td>\n",
       "      <td>52228</td>\n",
       "      <td>52228</td>\n",
       "      <td>52228</td>\n",
       "      <td>52228</td>\n",
       "      <td>52228</td>\n",
       "      <td>52228</td>\n",
       "      <td>52228</td>\n",
       "      <td>52228</td>\n",
       "      <td>52228</td>\n",
       "      <td>52228</td>\n",
       "      <td>52228</td>\n",
       "    </tr>\n",
       "    <tr>\n",
       "      <th>unique</th>\n",
       "      <td>2</td>\n",
       "      <td>2</td>\n",
       "      <td>2</td>\n",
       "      <td>2</td>\n",
       "      <td>2</td>\n",
       "      <td>2</td>\n",
       "      <td>2</td>\n",
       "      <td>2</td>\n",
       "      <td>1</td>\n",
       "      <td>1</td>\n",
       "      <td>2</td>\n",
       "      <td>1</td>\n",
       "      <td>2</td>\n",
       "    </tr>\n",
       "    <tr>\n",
       "      <th>top</th>\n",
       "      <td>False</td>\n",
       "      <td>False</td>\n",
       "      <td>False</td>\n",
       "      <td>False</td>\n",
       "      <td>False</td>\n",
       "      <td>False</td>\n",
       "      <td>False</td>\n",
       "      <td>False</td>\n",
       "      <td>False</td>\n",
       "      <td>False</td>\n",
       "      <td>False</td>\n",
       "      <td>False</td>\n",
       "      <td>True</td>\n",
       "    </tr>\n",
       "    <tr>\n",
       "      <th>freq</th>\n",
       "      <td>51497</td>\n",
       "      <td>51559</td>\n",
       "      <td>50446</td>\n",
       "      <td>50320</td>\n",
       "      <td>51117</td>\n",
       "      <td>51826</td>\n",
       "      <td>49970</td>\n",
       "      <td>52116</td>\n",
       "      <td>52228</td>\n",
       "      <td>52228</td>\n",
       "      <td>51936</td>\n",
       "      <td>52228</td>\n",
       "      <td>45026</td>\n",
       "    </tr>\n",
       "  </tbody>\n",
       "</table>\n",
       "</div>"
      ],
      "text/plain": [
       "       industry_agriculture industry_mining industry_manufacture  \\\n",
       "count                 52228           52228                52228   \n",
       "unique                    2               2                    2   \n",
       "top                   False           False                False   \n",
       "freq                  51497           51559                50446   \n",
       "\n",
       "       industry_public_service industry_trade industry_finance  \\\n",
       "count                    52228          52228            52228   \n",
       "unique                       2              2                2   \n",
       "top                      False          False            False   \n",
       "freq                     50320          51117            51826   \n",
       "\n",
       "       industry_tech_service industry_entertainment industry_education  \\\n",
       "count                  52228                  52228              52228   \n",
       "unique                     2                      2                  1   \n",
       "top                    False                  False              False   \n",
       "freq                   49970                  52116              52228   \n",
       "\n",
       "       industry_healthcare industry_other_service industry_admin_military  \\\n",
       "count                52228                  52228                   52228   \n",
       "unique                   1                      2                       1   \n",
       "top                  False                  False                   False   \n",
       "freq                 52228                  51936                   52228   \n",
       "\n",
       "       industry_unknown  \n",
       "count             52228  \n",
       "unique                2  \n",
       "top                True  \n",
       "freq              45026  "
      ]
     },
     "execution_count": 255,
     "metadata": {},
     "output_type": "execute_result"
    }
   ],
   "source": [
    "df_90s[['industry_agriculture', 'industry_mining',\n",
    "       'industry_manufacture', 'industry_public_service', 'industry_trade',\n",
    "       'industry_finance', 'industry_tech_service', 'industry_entertainment',\n",
    "       'industry_education', 'industry_healthcare', 'industry_other_service',\n",
    "       'industry_admin_military', 'industry_unknown']].describe()"
   ]
  },
  {
   "cell_type": "code",
   "execution_count": 254,
   "metadata": {},
   "outputs": [
    {
     "data": {
      "text/html": [
       "<div>\n",
       "<style scoped>\n",
       "    .dataframe tbody tr th:only-of-type {\n",
       "        vertical-align: middle;\n",
       "    }\n",
       "\n",
       "    .dataframe tbody tr th {\n",
       "        vertical-align: top;\n",
       "    }\n",
       "\n",
       "    .dataframe thead th {\n",
       "        text-align: right;\n",
       "    }\n",
       "</style>\n",
       "<table border=\"1\" class=\"dataframe\">\n",
       "  <thead>\n",
       "    <tr style=\"text-align: right;\">\n",
       "      <th></th>\n",
       "      <th>industry_agriculture</th>\n",
       "      <th>industry_mining</th>\n",
       "      <th>industry_manufacture</th>\n",
       "      <th>industry_public_service</th>\n",
       "      <th>industry_trade</th>\n",
       "      <th>industry_finance</th>\n",
       "      <th>industry_tech_service</th>\n",
       "      <th>industry_entertainment</th>\n",
       "      <th>industry_education</th>\n",
       "      <th>industry_healthcare</th>\n",
       "      <th>industry_other_service</th>\n",
       "      <th>industry_admin_military</th>\n",
       "      <th>industry_unknown</th>\n",
       "    </tr>\n",
       "  </thead>\n",
       "  <tbody>\n",
       "    <tr>\n",
       "      <th>count</th>\n",
       "      <td>49071</td>\n",
       "      <td>49071</td>\n",
       "      <td>49071</td>\n",
       "      <td>49071</td>\n",
       "      <td>49071</td>\n",
       "      <td>49071</td>\n",
       "      <td>49071</td>\n",
       "      <td>49071</td>\n",
       "      <td>49071</td>\n",
       "      <td>49071</td>\n",
       "      <td>49071</td>\n",
       "      <td>49071</td>\n",
       "      <td>49071</td>\n",
       "    </tr>\n",
       "    <tr>\n",
       "      <th>unique</th>\n",
       "      <td>2</td>\n",
       "      <td>2</td>\n",
       "      <td>2</td>\n",
       "      <td>2</td>\n",
       "      <td>2</td>\n",
       "      <td>2</td>\n",
       "      <td>2</td>\n",
       "      <td>2</td>\n",
       "      <td>2</td>\n",
       "      <td>2</td>\n",
       "      <td>2</td>\n",
       "      <td>2</td>\n",
       "      <td>2</td>\n",
       "    </tr>\n",
       "    <tr>\n",
       "      <th>top</th>\n",
       "      <td>False</td>\n",
       "      <td>False</td>\n",
       "      <td>False</td>\n",
       "      <td>False</td>\n",
       "      <td>False</td>\n",
       "      <td>False</td>\n",
       "      <td>False</td>\n",
       "      <td>False</td>\n",
       "      <td>False</td>\n",
       "      <td>False</td>\n",
       "      <td>False</td>\n",
       "      <td>False</td>\n",
       "      <td>False</td>\n",
       "    </tr>\n",
       "    <tr>\n",
       "      <th>freq</th>\n",
       "      <td>47635</td>\n",
       "      <td>47731</td>\n",
       "      <td>38780</td>\n",
       "      <td>43864</td>\n",
       "      <td>40790</td>\n",
       "      <td>46521</td>\n",
       "      <td>43374</td>\n",
       "      <td>48421</td>\n",
       "      <td>45921</td>\n",
       "      <td>44113</td>\n",
       "      <td>42507</td>\n",
       "      <td>46648</td>\n",
       "      <td>47165</td>\n",
       "    </tr>\n",
       "  </tbody>\n",
       "</table>\n",
       "</div>"
      ],
      "text/plain": [
       "       industry_agriculture industry_mining industry_manufacture  \\\n",
       "count                 49071           49071                49071   \n",
       "unique                    2               2                    2   \n",
       "top                   False           False                False   \n",
       "freq                  47635           47731                38780   \n",
       "\n",
       "       industry_public_service industry_trade industry_finance  \\\n",
       "count                    49071          49071            49071   \n",
       "unique                       2              2                2   \n",
       "top                      False          False            False   \n",
       "freq                     43864          40790            46521   \n",
       "\n",
       "       industry_tech_service industry_entertainment industry_education  \\\n",
       "count                  49071                  49071              49071   \n",
       "unique                     2                      2                  2   \n",
       "top                    False                  False              False   \n",
       "freq                   43374                  48421              45921   \n",
       "\n",
       "       industry_healthcare industry_other_service industry_admin_military  \\\n",
       "count                49071                  49071                   49071   \n",
       "unique                   2                      2                       2   \n",
       "top                  False                  False                   False   \n",
       "freq                 44113                  42507                   46648   \n",
       "\n",
       "       industry_unknown  \n",
       "count             49071  \n",
       "unique                2  \n",
       "top               False  \n",
       "freq              47165  "
      ]
     },
     "execution_count": 254,
     "metadata": {},
     "output_type": "execute_result"
    }
   ],
   "source": [
    "df_00s[['industry_agriculture', 'industry_mining',\n",
    "       'industry_manufacture', 'industry_public_service', 'industry_trade',\n",
    "       'industry_finance', 'industry_tech_service', 'industry_entertainment',\n",
    "       'industry_education', 'industry_healthcare', 'industry_other_service',\n",
    "       'industry_admin_military', 'industry_unknown']].describe()"
   ]
  },
  {
   "cell_type": "code",
   "execution_count": 5,
   "metadata": {},
   "outputs": [],
   "source": [
    "data['80s']=((data['year']>1979) & (data['year']<1990))"
   ]
  },
  {
   "cell_type": "code",
   "execution_count": 6,
   "metadata": {},
   "outputs": [
    {
     "data": {
      "text/html": [
       "<div>\n",
       "<style scoped>\n",
       "    .dataframe tbody tr th:only-of-type {\n",
       "        vertical-align: middle;\n",
       "    }\n",
       "\n",
       "    .dataframe tbody tr th {\n",
       "        vertical-align: top;\n",
       "    }\n",
       "\n",
       "    .dataframe thead th {\n",
       "        text-align: right;\n",
       "    }\n",
       "</style>\n",
       "<table border=\"1\" class=\"dataframe\">\n",
       "  <thead>\n",
       "    <tr style=\"text-align: right;\">\n",
       "      <th></th>\n",
       "      <th>Unnamed: 0</th>\n",
       "      <th>id</th>\n",
       "      <th>year</th>\n",
       "      <th>age</th>\n",
       "      <th>tenure</th>\n",
       "      <th>hourly_wage</th>\n",
       "      <th>male</th>\n",
       "      <th>female</th>\n",
       "      <th>country_birth_US</th>\n",
       "      <th>age_45+</th>\n",
       "      <th>...</th>\n",
       "      <th>industry_tech_service</th>\n",
       "      <th>industry_entertainment</th>\n",
       "      <th>industry_education</th>\n",
       "      <th>industry_healthcare</th>\n",
       "      <th>industry_other_service</th>\n",
       "      <th>industry_admin_military</th>\n",
       "      <th>industry_unknown</th>\n",
       "      <th>80s</th>\n",
       "      <th>90s</th>\n",
       "      <th>00s</th>\n",
       "    </tr>\n",
       "  </thead>\n",
       "  <tbody>\n",
       "    <tr>\n",
       "      <th>0</th>\n",
       "      <td>0</td>\n",
       "      <td>1</td>\n",
       "      <td>1979</td>\n",
       "      <td>20</td>\n",
       "      <td>41</td>\n",
       "      <td>328.0</td>\n",
       "      <td>0</td>\n",
       "      <td>1</td>\n",
       "      <td>True</td>\n",
       "      <td>0.0</td>\n",
       "      <td>...</td>\n",
       "      <td>False</td>\n",
       "      <td>False</td>\n",
       "      <td>False</td>\n",
       "      <td>False</td>\n",
       "      <td>False</td>\n",
       "      <td>False</td>\n",
       "      <td>True</td>\n",
       "      <td>False</td>\n",
       "      <td>False</td>\n",
       "      <td>False</td>\n",
       "    </tr>\n",
       "    <tr>\n",
       "      <th>1</th>\n",
       "      <td>2</td>\n",
       "      <td>1</td>\n",
       "      <td>1981</td>\n",
       "      <td>22</td>\n",
       "      <td>162</td>\n",
       "      <td>361.0</td>\n",
       "      <td>0</td>\n",
       "      <td>1</td>\n",
       "      <td>True</td>\n",
       "      <td>0.0</td>\n",
       "      <td>...</td>\n",
       "      <td>False</td>\n",
       "      <td>False</td>\n",
       "      <td>False</td>\n",
       "      <td>False</td>\n",
       "      <td>False</td>\n",
       "      <td>False</td>\n",
       "      <td>True</td>\n",
       "      <td>True</td>\n",
       "      <td>False</td>\n",
       "      <td>False</td>\n",
       "    </tr>\n",
       "  </tbody>\n",
       "</table>\n",
       "<p>2 rows × 71 columns</p>\n",
       "</div>"
      ],
      "text/plain": [
       "   Unnamed: 0  id  year  age  tenure  hourly_wage  male  female  \\\n",
       "0           0   1  1979   20      41        328.0     0       1   \n",
       "1           2   1  1981   22     162        361.0     0       1   \n",
       "\n",
       "   country_birth_US  age_45+  ...    industry_tech_service  \\\n",
       "0              True      0.0  ...                    False   \n",
       "1              True      0.0  ...                    False   \n",
       "\n",
       "   industry_entertainment  industry_education  industry_healthcare  \\\n",
       "0                   False               False                False   \n",
       "1                   False               False                False   \n",
       "\n",
       "   industry_other_service  industry_admin_military  industry_unknown    80s  \\\n",
       "0                   False                    False              True  False   \n",
       "1                   False                    False              True   True   \n",
       "\n",
       "     90s    00s  \n",
       "0  False  False  \n",
       "1  False  False  \n",
       "\n",
       "[2 rows x 71 columns]"
      ]
     },
     "execution_count": 6,
     "metadata": {},
     "output_type": "execute_result"
    }
   ],
   "source": [
    "data['90s']=((data['year']>=1990) & (data['year']<2000))\n",
    "data['00s']=(data['year']>=2000)\n",
    "data.head(2)"
   ]
  },
  {
   "cell_type": "code",
   "execution_count": 10,
   "metadata": {},
   "outputs": [
    {
     "name": "stdout",
     "output_type": "stream",
     "text": [
      "(85264, 71)\n"
     ]
    }
   ],
   "source": [
    "# get only values per decade\n",
    "data_80s= data['80s']==1\n",
    "df_80s=data[data_80s]\n",
    "print(df_80s.shape)"
   ]
  },
  {
   "cell_type": "code",
   "execution_count": 11,
   "metadata": {},
   "outputs": [
    {
     "name": "stdout",
     "output_type": "stream",
     "text": [
      "(52228, 71)\n"
     ]
    }
   ],
   "source": [
    "data_90s= data['90s']==1\n",
    "df_90s=data[data_90s]\n",
    "print(df_90s.shape)"
   ]
  },
  {
   "cell_type": "code",
   "execution_count": 12,
   "metadata": {},
   "outputs": [
    {
     "name": "stdout",
     "output_type": "stream",
     "text": [
      "(49071, 71)\n"
     ]
    }
   ],
   "source": [
    "data_00s= data['00s']==1\n",
    "df_00s=data[data_00s]\n",
    "print(df_00s.shape)"
   ]
  },
  {
   "cell_type": "markdown",
   "metadata": {},
   "source": [
    "## 90's and 00's industries"
   ]
  },
  {
   "cell_type": "markdown",
   "metadata": {},
   "source": [
    "### manufacture"
   ]
  },
  {
   "cell_type": "code",
   "execution_count": 256,
   "metadata": {},
   "outputs": [
    {
     "name": "stdout",
     "output_type": "stream",
     "text": [
      "(1782, 71)\n"
     ]
    }
   ],
   "source": [
    "# get only values per decade\n",
    "manufacture= df_90s['industry_manufacture']==1\n",
    "df_m_90s=df_90s[manufacture]\n",
    "print(df_m_90s.shape)\n"
   ]
  },
  {
   "cell_type": "code",
   "execution_count": 257,
   "metadata": {},
   "outputs": [
    {
     "name": "stdout",
     "output_type": "stream",
     "text": [
      "(10291, 71)\n"
     ]
    }
   ],
   "source": [
    "manufacture_00s= df_00s['industry_manufacture']==1\n",
    "df_m_00s=df_00s[manufacture_00s]\n",
    "print(df_m_00s.shape)\n"
   ]
  },
  {
   "cell_type": "markdown",
   "metadata": {},
   "source": [
    "### Public Service"
   ]
  },
  {
   "cell_type": "code",
   "execution_count": 258,
   "metadata": {},
   "outputs": [
    {
     "name": "stdout",
     "output_type": "stream",
     "text": [
      "(1908, 71)\n"
     ]
    }
   ],
   "source": [
    "pub_service= df_90s['industry_public_service']==1\n",
    "df_ps_90s=df_90s[pub_service]\n",
    "print(df_ps_90s.shape)"
   ]
  },
  {
   "cell_type": "code",
   "execution_count": 259,
   "metadata": {},
   "outputs": [
    {
     "name": "stdout",
     "output_type": "stream",
     "text": [
      "(5207, 71)\n"
     ]
    }
   ],
   "source": [
    "pub_service_00s= df_00s['industry_public_service']==1\n",
    "df_ps_00s=df_00s[pub_service_00s]\n",
    "print(df_ps_00s.shape)"
   ]
  },
  {
   "cell_type": "markdown",
   "metadata": {},
   "source": [
    "# Logistic regression\n",
    "## 80's data by gender\n"
   ]
  },
  {
   "cell_type": "code",
   "execution_count": null,
   "metadata": {},
   "outputs": [],
   "source": []
  },
  {
   "cell_type": "code",
   "execution_count": 263,
   "metadata": {},
   "outputs": [],
   "source": [
    "# Set X and y \n",
    "X= df_80s[['id', 'year', 'age', 'tenure', 'hourly_wage',\n",
    "        'country_birth_US', 'age_45+', 'age_30-45', 'age_30-',\n",
    "       'race_hispanic', 'race_black', 'race_others', 'region_northeast',\n",
    "       'region_northcentral', 'region_south', 'region_west', 'region_unknown',\n",
    "       'marital_never', 'marital_spouse_present', 'marital_others',\n",
    "       'edu_highschool-', 'edu_highschool', 'edu_undergraduate',\n",
    "       'edu_undergraduate+', 'edu_unknown', 'employment_employed',\n",
    "       'employment_unemployed', 'employment_out_laborforce',\n",
    "       'employment_active', 'employment_unknown','jobs_2-',\n",
    "       'jobs_5', 'jobs_10', 'jobs_10+', 'jobs_unknown', 'occupation_tech',\n",
    "       'occupation_sales', 'occupation_social_science',\n",
    "       'occupation_manufacture_worker', 'occupation_military',\n",
    "       'occupation_farmer', 'occupation_service', 'occupation_management',\n",
    "       'occupation_entertainment', 'occupation_healthcare',\n",
    "       'occupation_unknown', 'industry_agriculture', 'industry_mining',\n",
    "       'industry_manufacture', 'industry_public_service', 'industry_trade',\n",
    "       'industry_finance', 'industry_tech_service', 'industry_entertainment',\n",
    "       'industry_education', 'industry_healthcare', 'industry_other_service',\n",
    "       'industry_admin_military', 'industry_unknown']]\n",
    "y=df_80s['male']"
   ]
  },
  {
   "cell_type": "code",
   "execution_count": 237,
   "metadata": {},
   "outputs": [],
   "source": [
    "# split training and testing sets\n",
    "X_train, X_test, y_train, y_test = train_test_split(X, y)\n",
    "\n",
    "# initialize classifier\n",
    "classifier = LogisticRegression()"
   ]
  },
  {
   "cell_type": "code",
   "execution_count": 238,
   "metadata": {},
   "outputs": [
    {
     "data": {
      "text/plain": [
       "LogisticRegression(C=1.0, class_weight=None, dual=False, fit_intercept=True,\n",
       "          intercept_scaling=1, max_iter=100, multi_class='ovr', n_jobs=1,\n",
       "          penalty='l2', random_state=None, solver='liblinear', tol=0.0001,\n",
       "          verbose=0, warm_start=False)"
      ]
     },
     "execution_count": 238,
     "metadata": {},
     "output_type": "execute_result"
    }
   ],
   "source": [
    "classifier.fit(X_train, y_train)"
   ]
  },
  {
   "cell_type": "code",
   "execution_count": 239,
   "metadata": {},
   "outputs": [
    {
     "data": {
      "text/plain": [
       "0.5828954775755301"
      ]
     },
     "execution_count": 239,
     "metadata": {},
     "output_type": "execute_result"
    }
   ],
   "source": [
    "classifier.score(X_test,y_test)"
   ]
  },
  {
   "cell_type": "code",
   "execution_count": 34,
   "metadata": {},
   "outputs": [
    {
     "name": "stdout",
     "output_type": "stream",
     "text": [
      "        Prediction  Actual  Confidence score\n",
      "163592           1       0          0.296520\n",
      "48516            1       1          0.920576\n",
      "39354            0       0         -0.149996\n",
      "149361           1       0          0.666270\n",
      "59590            0       0         -0.126341\n",
      "68268            1       1          0.669429\n",
      "105261           1       1          0.418071\n",
      "100102           0       1         -0.130211\n",
      "127252           0       0         -0.354125\n",
      "132310           0       1         -0.655080\n"
     ]
    }
   ],
   "source": [
    "# get predictions vs true label\n",
    "confidence= classifier.decision_function(X_test)\n",
    "predictions = classifier.predict(X_test)\n",
    "results=pd.DataFrame({\"Prediction\": predictions, \"Actual\": y_test, \"Confidence score\": confidence })\n",
    "print(results.head(10))"
   ]
  },
  {
   "cell_type": "markdown",
   "metadata": {},
   "source": [
    "## 80s data by race"
   ]
  },
  {
   "cell_type": "code",
   "execution_count": 240,
   "metadata": {},
   "outputs": [
    {
     "name": "stdout",
     "output_type": "stream",
     "text": [
      "(85264, 58)\n"
     ]
    }
   ],
   "source": [
    "# Set X and y \n",
    "X= df_80s[['id', 'year', 'age', 'tenure', 'hourly_wage',\n",
    "        'country_birth_US', 'age_45+', 'age_30-45', 'age_30-',\n",
    "       'male', 'female', 'region_northeast',\n",
    "       'region_northcentral', 'region_south', 'region_west', 'region_unknown',\n",
    "       'marital_never', 'marital_spouse_present', 'marital_others',\n",
    "       'edu_highschool-', 'edu_highschool', 'edu_undergraduate',\n",
    "       'edu_undergraduate+', 'edu_unknown', 'employment_employed',\n",
    "       'employment_unemployed', 'employment_out_laborforce',\n",
    "       'employment_active', 'employment_unknown', 'jobs_2-',\n",
    "       'jobs_5', 'jobs_10', 'jobs_10+', 'jobs_unknown', 'occupation_tech',\n",
    "       'occupation_sales', 'occupation_social_science',\n",
    "       'occupation_manufacture_worker', 'occupation_military',\n",
    "       'occupation_farmer', 'occupation_service', 'occupation_management',\n",
    "       'occupation_entertainment', 'occupation_healthcare',\n",
    "       'occupation_unknown', 'industry_agriculture', 'industry_mining',\n",
    "       'industry_manufacture', 'industry_public_service', 'industry_trade',\n",
    "       'industry_finance', 'industry_tech_service', 'industry_entertainment',\n",
    "       'industry_education', 'industry_healthcare', 'industry_other_service',\n",
    "       'industry_admin_military', 'industry_unknown']]\n",
    "print(X.shape)"
   ]
  },
  {
   "cell_type": "code",
   "execution_count": 241,
   "metadata": {},
   "outputs": [
    {
     "name": "stdout",
     "output_type": "stream",
     "text": [
      "(85264,)\n"
     ]
    },
    {
     "name": "stderr",
     "output_type": "stream",
     "text": [
      "/anaconda3/envs/PythonData/lib/python3.6/site-packages/ipykernel_launcher.py:2: SettingWithCopyWarning: \n",
      "A value is trying to be set on a copy of a slice from a DataFrame.\n",
      "Try using .loc[row_indexer,col_indexer] = value instead\n",
      "\n",
      "See the caveats in the documentation: http://pandas.pydata.org/pandas-docs/stable/indexing.html#indexing-view-versus-copy\n",
      "  \n",
      "/anaconda3/envs/PythonData/lib/python3.6/site-packages/ipykernel_launcher.py:3: SettingWithCopyWarning: \n",
      "A value is trying to be set on a copy of a slice from a DataFrame.\n",
      "Try using .loc[row_indexer,col_indexer] = value instead\n",
      "\n",
      "See the caveats in the documentation: http://pandas.pydata.org/pandas-docs/stable/indexing.html#indexing-view-versus-copy\n",
      "  This is separate from the ipykernel package so we can avoid doing imports until\n"
     ]
    }
   ],
   "source": [
    "race=df_80s[['race_hispanic', 'race_black', 'race_others']]\n",
    "race['race2']=(race[\"race_black\"]*2)\n",
    "race['race3']= (race[\"race_others\"]*3)\n",
    "race= race.assign(All = lambda x: x['race_hispanic']+ x['race2']+ x['race3'])\n",
    "y=race['All']\n",
    "print(y.shape)"
   ]
  },
  {
   "cell_type": "code",
   "execution_count": 242,
   "metadata": {},
   "outputs": [],
   "source": [
    "# split training and testing sets\n",
    "X_train, X_test, y_train, y_test = train_test_split(X, y)\n",
    "\n",
    "# initialize classifier\n",
    "classifier = LogisticRegression()"
   ]
  },
  {
   "cell_type": "code",
   "execution_count": 244,
   "metadata": {},
   "outputs": [
    {
     "data": {
      "text/plain": [
       "0.6410677425408144"
      ]
     },
     "execution_count": 244,
     "metadata": {},
     "output_type": "execute_result"
    }
   ],
   "source": [
    "classifier.fit(X_train, y_train)\n",
    "\n",
    "classifier.score(X_test,y_test)"
   ]
  },
  {
   "cell_type": "code",
   "execution_count": null,
   "metadata": {},
   "outputs": [],
   "source": [
    "# get predictions vs true label\n",
    "confidence= classifier.decision_function(X_test)\n",
    "predictions = classifier.predict(X_test)\n",
    "results=pd.DataFrame({\"Prediction\": predictions, \"Actual\": y_test, \"Confidence_hispanic\": confidence[:,0], \"Confidence_black\": confidence[:,1],\"Confidence_others\": confidence[:,2] })\n",
    "print(results.head(10))"
   ]
  },
  {
   "cell_type": "markdown",
   "metadata": {},
   "source": [
    "## 90's data by gender"
   ]
  },
  {
   "cell_type": "code",
   "execution_count": 59,
   "metadata": {},
   "outputs": [],
   "source": [
    "# Set X and y \n",
    "X= df_90s[['id', 'year', 'age', 'tenure', 'hourly_wage',\n",
    "        'country_birth_US', 'age_45+', 'age_30-45', 'age_30-',\n",
    "       'race_hispanic', 'race_black', 'race_others', 'region_northeast',\n",
    "       'region_northcentral', 'region_south', 'region_west', 'region_unknown',\n",
    "       'marital_never', 'marital_spouse_present', 'marital_others',\n",
    "       'edu_highschool-', 'edu_highschool', 'edu_undergraduate',\n",
    "       'edu_undergraduate+', 'edu_unknown', 'employment_employed',\n",
    "       'employment_unemployed', 'employment_out_laborforce',\n",
    "       'employment_active', 'employment_unknown','jobs_2-',\n",
    "       'jobs_5', 'jobs_10', 'jobs_10+', 'jobs_unknown', 'occupation_tech',\n",
    "       'occupation_sales', 'occupation_social_science',\n",
    "       'occupation_manufacture_worker', 'occupation_military',\n",
    "       'occupation_farmer', 'occupation_service', 'occupation_management',\n",
    "       'occupation_entertainment', 'occupation_healthcare',\n",
    "       'occupation_unknown', 'industry_agriculture', 'industry_mining',\n",
    "       'industry_manufacture', 'industry_public_service', 'industry_trade',\n",
    "       'industry_finance', 'industry_tech_service', 'industry_entertainment',\n",
    "       'industry_education', 'industry_healthcare', 'industry_other_service',\n",
    "       'industry_admin_military', 'industry_unknown']]\n",
    "y=df_90s['male']"
   ]
  },
  {
   "cell_type": "code",
   "execution_count": 60,
   "metadata": {},
   "outputs": [],
   "source": [
    "# split training and testing sets\n",
    "X_train, X_test, y_train, y_test = train_test_split(X, y)\n",
    "\n",
    "# initialize classifier\n",
    "classifier = LogisticRegression()"
   ]
  },
  {
   "cell_type": "code",
   "execution_count": 62,
   "metadata": {},
   "outputs": [
    {
     "data": {
      "text/plain": [
       "LogisticRegression(C=1.0, class_weight='balanced', dual=False,\n",
       "          fit_intercept=True, intercept_scaling=1, max_iter=100,\n",
       "          multi_class='ovr', n_jobs=1, penalty='l2', random_state=42,\n",
       "          solver='liblinear', tol=0.0001, verbose=0, warm_start=False)"
      ]
     },
     "execution_count": 62,
     "metadata": {},
     "output_type": "execute_result"
    }
   ],
   "source": [
    "classifier.fit(X_train, y_train)\n",
    "\n",
    "classifier.score(X_test,y_test)"
   ]
  },
  {
   "cell_type": "code",
   "execution_count": null,
   "metadata": {},
   "outputs": [],
   "source": [
    "# Set X and y by manufacture industry\n",
    "X_i= df_m_90s[['id', 'year', 'age', 'tenure', 'hourly_wage','country_birth_US',\n",
    "       'race_hispanic', 'race_black', 'race_others', 'region_northeast',\n",
    "       'region_northcentral', 'region_south', 'region_west', 'region_unknown',\n",
    "       'marital_never', 'marital_spouse_present', 'marital_others',\n",
    "       'edu_highschool-', 'edu_highschool', 'edu_undergraduate',\n",
    "       'edu_undergraduate+', 'edu_unknown', 'employment_employed',\n",
    "       'employment_unemployed', 'employment_out_laborforce',\n",
    "       'employment_active', 'employment_unknown', 'jobs_2-',\n",
    "       'jobs_5', 'jobs_10', 'jobs_10+', 'jobs_unknown',\n",
    "       'industry_manufacture', 'industry_public_service']]\n",
    "y=df_m_90s['male']\n",
    "\n",
    "# split training and testing sets\n",
    "X_train, X_test, y_train, y_test = train_test_split(X_i, y)\n",
    "\n",
    "# initialize classifier\n",
    "classifier = LogisticRegression()\n",
    "\n",
    "classifier.fit(X_train, y_train)\n",
    "classifier.score(X_test,y_test)"
   ]
  },
  {
   "cell_type": "markdown",
   "metadata": {},
   "source": [
    "# Gender Discrimination?"
   ]
  },
  {
   "cell_type": "markdown",
   "metadata": {},
   "source": [
    "## Aggregated data  by id\n",
    " To compare only by individuals, we aggregate data by id and decade as a proxy of average wages and mode of occupation and industry by respondent\n",
    "## 80s data "
   ]
  },
  {
   "cell_type": "code",
   "execution_count": 70,
   "metadata": {},
   "outputs": [
    {
     "data": {
      "text/html": [
       "<div>\n",
       "<style scoped>\n",
       "    .dataframe tbody tr th:only-of-type {\n",
       "        vertical-align: middle;\n",
       "    }\n",
       "\n",
       "    .dataframe tbody tr th {\n",
       "        vertical-align: top;\n",
       "    }\n",
       "\n",
       "    .dataframe thead th {\n",
       "        text-align: right;\n",
       "    }\n",
       "</style>\n",
       "<table border=\"1\" class=\"dataframe\">\n",
       "  <thead>\n",
       "    <tr style=\"text-align: right;\">\n",
       "      <th></th>\n",
       "      <th>hourly_wage</th>\n",
       "      <th>tenure</th>\n",
       "      <th>age</th>\n",
       "    </tr>\n",
       "    <tr>\n",
       "      <th>id</th>\n",
       "      <th></th>\n",
       "      <th></th>\n",
       "      <th></th>\n",
       "    </tr>\n",
       "  </thead>\n",
       "  <tbody>\n",
       "    <tr>\n",
       "      <th>1</th>\n",
       "      <td>361.000</td>\n",
       "      <td>162.00</td>\n",
       "      <td>22.000000</td>\n",
       "    </tr>\n",
       "    <tr>\n",
       "      <th>2</th>\n",
       "      <td>702.300</td>\n",
       "      <td>44.50</td>\n",
       "      <td>25.500000</td>\n",
       "    </tr>\n",
       "    <tr>\n",
       "      <th>3</th>\n",
       "      <td>360.500</td>\n",
       "      <td>15.50</td>\n",
       "      <td>23.166667</td>\n",
       "    </tr>\n",
       "    <tr>\n",
       "      <th>4</th>\n",
       "      <td>815.400</td>\n",
       "      <td>6.80</td>\n",
       "      <td>23.400000</td>\n",
       "    </tr>\n",
       "    <tr>\n",
       "      <th>5</th>\n",
       "      <td>1303.875</td>\n",
       "      <td>38.25</td>\n",
       "      <td>24.125000</td>\n",
       "    </tr>\n",
       "  </tbody>\n",
       "</table>\n",
       "</div>"
      ],
      "text/plain": [
       "    hourly_wage  tenure        age\n",
       "id                                \n",
       "1       361.000  162.00  22.000000\n",
       "2       702.300   44.50  25.500000\n",
       "3       360.500   15.50  23.166667\n",
       "4       815.400    6.80  23.400000\n",
       "5      1303.875   38.25  24.125000"
      ]
     },
     "execution_count": 70,
     "metadata": {},
     "output_type": "execute_result"
    }
   ],
   "source": [
    "\n",
    "df80s_1= df_80s.groupby(['id'])['hourly_wage','tenure','age'].mean()\n",
    "df80s_1.head(5)"
   ]
  },
  {
   "cell_type": "code",
   "execution_count": 75,
   "metadata": {},
   "outputs": [
    {
     "data": {
      "text/html": [
       "<div>\n",
       "<style scoped>\n",
       "    .dataframe tbody tr th:only-of-type {\n",
       "        vertical-align: middle;\n",
       "    }\n",
       "\n",
       "    .dataframe tbody tr th {\n",
       "        vertical-align: top;\n",
       "    }\n",
       "\n",
       "    .dataframe thead th {\n",
       "        text-align: right;\n",
       "    }\n",
       "</style>\n",
       "<table border=\"1\" class=\"dataframe\">\n",
       "  <thead>\n",
       "    <tr style=\"text-align: right;\">\n",
       "      <th></th>\n",
       "      <th>Unnamed: 0</th>\n",
       "      <th>male</th>\n",
       "      <th>female</th>\n",
       "      <th>country_birth_US</th>\n",
       "      <th>age_45+</th>\n",
       "      <th>age_30-45</th>\n",
       "      <th>age_30-</th>\n",
       "      <th>race_hispanic</th>\n",
       "      <th>race_black</th>\n",
       "      <th>race_others</th>\n",
       "      <th>...</th>\n",
       "      <th>industry_tech_service</th>\n",
       "      <th>industry_entertainment</th>\n",
       "      <th>industry_education</th>\n",
       "      <th>industry_healthcare</th>\n",
       "      <th>industry_other_service</th>\n",
       "      <th>industry_admin_military</th>\n",
       "      <th>industry_unknown</th>\n",
       "      <th>80s</th>\n",
       "      <th>90s</th>\n",
       "      <th>00s</th>\n",
       "    </tr>\n",
       "    <tr>\n",
       "      <th>id</th>\n",
       "      <th></th>\n",
       "      <th></th>\n",
       "      <th></th>\n",
       "      <th></th>\n",
       "      <th></th>\n",
       "      <th></th>\n",
       "      <th></th>\n",
       "      <th></th>\n",
       "      <th></th>\n",
       "      <th></th>\n",
       "      <th></th>\n",
       "      <th></th>\n",
       "      <th></th>\n",
       "      <th></th>\n",
       "      <th></th>\n",
       "      <th></th>\n",
       "      <th></th>\n",
       "      <th></th>\n",
       "      <th></th>\n",
       "      <th></th>\n",
       "      <th></th>\n",
       "    </tr>\n",
       "  </thead>\n",
       "  <tbody>\n",
       "    <tr>\n",
       "      <th>1</th>\n",
       "      <td>2</td>\n",
       "      <td>0</td>\n",
       "      <td>1</td>\n",
       "      <td>True</td>\n",
       "      <td>0.0</td>\n",
       "      <td>0.0</td>\n",
       "      <td>1.0</td>\n",
       "      <td>0</td>\n",
       "      <td>0</td>\n",
       "      <td>1.0</td>\n",
       "      <td>...</td>\n",
       "      <td>False</td>\n",
       "      <td>False</td>\n",
       "      <td>False</td>\n",
       "      <td>False</td>\n",
       "      <td>False</td>\n",
       "      <td>False</td>\n",
       "      <td>True</td>\n",
       "      <td>True</td>\n",
       "      <td>False</td>\n",
       "      <td>False</td>\n",
       "    </tr>\n",
       "    <tr>\n",
       "      <th>2</th>\n",
       "      <td>36</td>\n",
       "      <td>0</td>\n",
       "      <td>1</td>\n",
       "      <td>False</td>\n",
       "      <td>0.0</td>\n",
       "      <td>1.0</td>\n",
       "      <td>1.0</td>\n",
       "      <td>0</td>\n",
       "      <td>0</td>\n",
       "      <td>1.0</td>\n",
       "      <td>...</td>\n",
       "      <td>False</td>\n",
       "      <td>False</td>\n",
       "      <td>False</td>\n",
       "      <td>False</td>\n",
       "      <td>False</td>\n",
       "      <td>False</td>\n",
       "      <td>True</td>\n",
       "      <td>True</td>\n",
       "      <td>False</td>\n",
       "      <td>False</td>\n",
       "    </tr>\n",
       "    <tr>\n",
       "      <th>3</th>\n",
       "      <td>62</td>\n",
       "      <td>0</td>\n",
       "      <td>1</td>\n",
       "      <td>True</td>\n",
       "      <td>0.0</td>\n",
       "      <td>0.0</td>\n",
       "      <td>1.0</td>\n",
       "      <td>0</td>\n",
       "      <td>0</td>\n",
       "      <td>1.0</td>\n",
       "      <td>...</td>\n",
       "      <td>False</td>\n",
       "      <td>False</td>\n",
       "      <td>False</td>\n",
       "      <td>False</td>\n",
       "      <td>False</td>\n",
       "      <td>False</td>\n",
       "      <td>True</td>\n",
       "      <td>True</td>\n",
       "      <td>False</td>\n",
       "      <td>False</td>\n",
       "    </tr>\n",
       "    <tr>\n",
       "      <th>4</th>\n",
       "      <td>88</td>\n",
       "      <td>0</td>\n",
       "      <td>1</td>\n",
       "      <td>True</td>\n",
       "      <td>0.0</td>\n",
       "      <td>0.0</td>\n",
       "      <td>1.0</td>\n",
       "      <td>0</td>\n",
       "      <td>0</td>\n",
       "      <td>1.0</td>\n",
       "      <td>...</td>\n",
       "      <td>False</td>\n",
       "      <td>False</td>\n",
       "      <td>False</td>\n",
       "      <td>False</td>\n",
       "      <td>False</td>\n",
       "      <td>False</td>\n",
       "      <td>True</td>\n",
       "      <td>True</td>\n",
       "      <td>False</td>\n",
       "      <td>False</td>\n",
       "    </tr>\n",
       "    <tr>\n",
       "      <th>5</th>\n",
       "      <td>114</td>\n",
       "      <td>1</td>\n",
       "      <td>0</td>\n",
       "      <td>True</td>\n",
       "      <td>0.0</td>\n",
       "      <td>0.0</td>\n",
       "      <td>1.0</td>\n",
       "      <td>0</td>\n",
       "      <td>0</td>\n",
       "      <td>1.0</td>\n",
       "      <td>...</td>\n",
       "      <td>False</td>\n",
       "      <td>False</td>\n",
       "      <td>False</td>\n",
       "      <td>False</td>\n",
       "      <td>False</td>\n",
       "      <td>False</td>\n",
       "      <td>True</td>\n",
       "      <td>True</td>\n",
       "      <td>False</td>\n",
       "      <td>False</td>\n",
       "    </tr>\n",
       "  </tbody>\n",
       "</table>\n",
       "<p>5 rows × 66 columns</p>\n",
       "</div>"
      ],
      "text/plain": [
       "    Unnamed: 0  male  female  country_birth_US  age_45+  age_30-45  age_30-  \\\n",
       "id                                                                            \n",
       "1            2     0       1              True      0.0        0.0      1.0   \n",
       "2           36     0       1             False      0.0        1.0      1.0   \n",
       "3           62     0       1              True      0.0        0.0      1.0   \n",
       "4           88     0       1              True      0.0        0.0      1.0   \n",
       "5          114     1       0              True      0.0        0.0      1.0   \n",
       "\n",
       "    race_hispanic  race_black  race_others  ...    industry_tech_service  \\\n",
       "id                                          ...                            \n",
       "1               0           0          1.0  ...                    False   \n",
       "2               0           0          1.0  ...                    False   \n",
       "3               0           0          1.0  ...                    False   \n",
       "4               0           0          1.0  ...                    False   \n",
       "5               0           0          1.0  ...                    False   \n",
       "\n",
       "    industry_entertainment  industry_education  industry_healthcare  \\\n",
       "id                                                                    \n",
       "1                    False               False                False   \n",
       "2                    False               False                False   \n",
       "3                    False               False                False   \n",
       "4                    False               False                False   \n",
       "5                    False               False                False   \n",
       "\n",
       "    industry_other_service  industry_admin_military  industry_unknown   80s  \\\n",
       "id                                                                            \n",
       "1                    False                    False              True  True   \n",
       "2                    False                    False              True  True   \n",
       "3                    False                    False              True  True   \n",
       "4                    False                    False              True  True   \n",
       "5                    False                    False              True  True   \n",
       "\n",
       "      90s    00s  \n",
       "id                \n",
       "1   False  False  \n",
       "2   False  False  \n",
       "3   False  False  \n",
       "4   False  False  \n",
       "5   False  False  \n",
       "\n",
       "[5 rows x 66 columns]"
      ]
     },
     "execution_count": 75,
     "metadata": {},
     "output_type": "execute_result"
    }
   ],
   "source": [
    "df80s_max= df_80s.groupby(['id']).max()\n",
    "del df80s_max['tenure']\n",
    "del df80s_max['age']\n",
    "del df80s_max['hourly_wage']\n",
    "del df80s_max['year']\n",
    "\n",
    "del df80s_max['80s']\n",
    "del df80s_max['90s']\n",
    "del df80s_max['00s']\n",
    "\n",
    "df80s_max.head(5)"
   ]
  },
  {
   "cell_type": "code",
   "execution_count": 77,
   "metadata": {},
   "outputs": [],
   "source": [
    "df_80s_agg =df80s_max.join(df80s_1, on='id',how='inner')"
   ]
  },
  {
   "cell_type": "code",
   "execution_count": 166,
   "metadata": {},
   "outputs": [],
   "source": [
    "# Set X and y \n",
    "X= df_80s_agg[['age', 'tenure', 'hourly_wage',\n",
    "        'country_birth_US', 'race_hispanic', 'race_black', 'race_others', 'region_northeast',\n",
    "       'region_northcentral', 'region_south', 'region_west', 'region_unknown',\n",
    "       'marital_never', 'marital_spouse_present', 'marital_others',\n",
    "       'edu_highschool-', 'edu_highschool', 'edu_undergraduate',\n",
    "       'edu_undergraduate+', 'edu_unknown', 'employment_employed',\n",
    "       'employment_unemployed', 'employment_out_laborforce',\n",
    "       'employment_active', 'employment_unknown', 'jobs_2-',\n",
    "       'jobs_5', 'jobs_10', 'jobs_10+', 'jobs_unknown', 'occupation_tech',\n",
    "       'occupation_sales', 'occupation_social_science',\n",
    "       'occupation_manufacture_worker', 'occupation_military',\n",
    "       'occupation_farmer', 'occupation_service', 'occupation_management',\n",
    "       'occupation_entertainment', 'occupation_healthcare',\n",
    "       'occupation_unknown', 'industry_agriculture', 'industry_mining',\n",
    "       'industry_manufacture', 'industry_public_service', 'industry_trade',\n",
    "       'industry_finance', 'industry_tech_service', 'industry_entertainment',\n",
    "       'industry_education', 'industry_healthcare', 'industry_other_service',\n",
    "       'industry_admin_military', 'industry_unknown']]\n",
    "y=df_80s_agg['male']"
   ]
  },
  {
   "cell_type": "code",
   "execution_count": 171,
   "metadata": {},
   "outputs": [
    {
     "data": {
      "text/plain": [
       "0.5101938919863527"
      ]
     },
     "execution_count": 171,
     "metadata": {},
     "output_type": "execute_result"
    }
   ],
   "source": [
    "y.mean()"
   ]
  },
  {
   "cell_type": "code",
   "execution_count": 167,
   "metadata": {},
   "outputs": [
    {
     "data": {
      "text/plain": [
       "0.6525790349417637"
      ]
     },
     "execution_count": 167,
     "metadata": {},
     "output_type": "execute_result"
    }
   ],
   "source": [
    "# split training and testing sets\n",
    "X_train, X_test, y_train, y_test = train_test_split(X, y)\n",
    "\n",
    "# initialize classifier\n",
    "classifier = LogisticRegression()\n",
    "classifier.fit(X_train, y_train)\n",
    "score_gen_80s=classifier.score(X_test,y_test)\n",
    "score_gen_80s"
   ]
  },
  {
   "cell_type": "code",
   "execution_count": 82,
   "metadata": {},
   "outputs": [
    {
     "name": "stdout",
     "output_type": "stream",
     "text": [
      "       Prediction  Actual  Confidence score\n",
      "id                                         \n",
      "6390            0       1         -0.168780\n",
      "4794            0       1         -0.015868\n",
      "8752            1       0          1.031706\n",
      "6689            1       1          0.871074\n",
      "450             1       1          0.861123\n",
      "12268           1       0          0.117272\n",
      "2774            0       1         -0.769729\n",
      "10455           0       1         -1.069678\n",
      "7247            0       0         -1.651420\n",
      "7893            0       0         -1.646029\n"
     ]
    }
   ],
   "source": [
    "# get predictions vs true label\n",
    "confidence= classifier.decision_function(X_test)\n",
    "predictions = classifier.predict(X_test)\n",
    "results=pd.DataFrame({\"Prediction\": predictions, \"Actual\": y_test, \"Confidence score\": confidence })\n",
    "print(results.head(10))"
   ]
  },
  {
   "cell_type": "markdown",
   "metadata": {},
   "source": [
    "## 90's data"
   ]
  },
  {
   "cell_type": "code",
   "execution_count": 83,
   "metadata": {},
   "outputs": [],
   "source": [
    "df90s_1= df_90s.groupby(['id'])['hourly_wage','tenure','age'].mean()\n",
    "df90s_max= df_90s.groupby(['id']).max()\n",
    "del df90s_max['tenure']\n",
    "del df90s_max['age']\n",
    "del df90s_max['hourly_wage']\n",
    "del df90s_max['year']\n",
    "df_90s_agg =df90s_max.join(df90s_1, on='id',how='inner')"
   ]
  },
  {
   "cell_type": "code",
   "execution_count": 172,
   "metadata": {},
   "outputs": [],
   "source": [
    "# Set X and y \n",
    "X= df_90s_agg[['age', 'tenure', 'hourly_wage',\n",
    "        'country_birth_US', 'race_hispanic', 'race_black', 'race_others', 'region_northeast',\n",
    "       'region_northcentral', 'region_south', 'region_west', 'region_unknown',\n",
    "       'marital_never', 'marital_spouse_present', 'marital_others',\n",
    "       'edu_highschool-', 'edu_highschool', 'edu_undergraduate',\n",
    "       'edu_undergraduate+', 'edu_unknown', 'employment_employed',\n",
    "       'employment_unemployed', 'employment_out_laborforce',\n",
    "       'employment_active', 'employment_unknown','jobs_2-',\n",
    "       'jobs_5', 'jobs_10', 'jobs_10+', 'jobs_unknown', 'occupation_tech',\n",
    "       'occupation_sales', 'occupation_social_science',\n",
    "       'occupation_manufacture_worker', 'occupation_military',\n",
    "       'occupation_farmer', 'occupation_service', 'occupation_management',\n",
    "       'occupation_entertainment', 'occupation_healthcare',\n",
    "       'occupation_unknown', 'industry_agriculture', 'industry_mining',\n",
    "       'industry_manufacture', 'industry_public_service', 'industry_trade',\n",
    "       'industry_finance', 'industry_tech_service', 'industry_entertainment',\n",
    "       'industry_education', 'industry_healthcare', 'industry_other_service',\n",
    "       'industry_admin_military', 'industry_unknown']]\n",
    "y=df_90s_agg['male']"
   ]
  },
  {
   "cell_type": "code",
   "execution_count": 173,
   "metadata": {},
   "outputs": [
    {
     "data": {
      "text/plain": [
       "0.5042935206869633"
      ]
     },
     "execution_count": 173,
     "metadata": {},
     "output_type": "execute_result"
    }
   ],
   "source": [
    "y.mean()"
   ]
  },
  {
   "cell_type": "code",
   "execution_count": 174,
   "metadata": {},
   "outputs": [
    {
     "data": {
      "text/plain": [
       "0.7474629195940672"
      ]
     },
     "execution_count": 174,
     "metadata": {},
     "output_type": "execute_result"
    }
   ],
   "source": [
    "# split training and testing sets\n",
    "X_train, X_test, y_train, y_test = train_test_split(X, y)\n",
    "\n",
    "# initialize classifier\n",
    "classifier = LogisticRegression()\n",
    "classifier.fit(X_train, y_train)\n",
    "score_gen_90s=classifier.score(X_test,y_test)\n",
    "score_gen_90s"
   ]
  },
  {
   "cell_type": "code",
   "execution_count": 86,
   "metadata": {},
   "outputs": [
    {
     "name": "stdout",
     "output_type": "stream",
     "text": [
      "       Prediction  Actual  Confidence score\n",
      "id                                         \n",
      "10057           1       1          0.422434\n",
      "12528           0       1         -0.166736\n",
      "1879            1       0          0.286890\n",
      "6267            0       0         -1.343249\n",
      "1278            1       1          1.960258\n",
      "9154            0       1         -0.041661\n",
      "3636            0       0         -1.252530\n",
      "9427            1       1          0.811150\n",
      "4789            1       1          0.764638\n",
      "39              1       1          1.133261\n"
     ]
    }
   ],
   "source": [
    "# get predictions vs true label\n",
    "confidence= classifier.decision_function(X_test)\n",
    "predictions = classifier.predict(X_test)\n",
    "results=pd.DataFrame({\"Prediction\": predictions, \"Actual\": y_test, \"Confidence score\": confidence })\n",
    "print(results.head(10))"
   ]
  },
  {
   "cell_type": "markdown",
   "metadata": {},
   "source": [
    "## 00's data"
   ]
  },
  {
   "cell_type": "code",
   "execution_count": 177,
   "metadata": {},
   "outputs": [],
   "source": [
    "df00s_1= df_00s.groupby(['id'])['hourly_wage','tenure','age'].mean()\n",
    "df00s_max= df_00s.groupby(['id']).max()\n",
    "del df00s_max['tenure']\n",
    "del df00s_max['age']\n",
    "del df00s_max['hourly_wage']\n",
    "del df00s_max['year']\n",
    "df_00s_agg =df00s_max.join(df00s_1, on='id',how='inner')\n",
    "\n",
    "# Set X and y \n",
    "X= df_00s_agg[['age', 'tenure', 'hourly_wage',\n",
    "        'country_birth_US', 'race_hispanic', 'race_black', 'race_others', 'region_northeast',\n",
    "       'region_northcentral', 'region_south', 'region_west', 'region_unknown',\n",
    "       'marital_never', 'marital_spouse_present', 'marital_others',\n",
    "       'edu_highschool-', 'edu_highschool', 'edu_undergraduate',\n",
    "       'edu_undergraduate+', 'edu_unknown', 'employment_employed',\n",
    "       'employment_unemployed', 'employment_out_laborforce',\n",
    "       'employment_active', 'employment_unknown', 'jobs_2-',\n",
    "       'jobs_5', 'jobs_10', 'jobs_10+', 'jobs_unknown', 'occupation_tech',\n",
    "       'occupation_sales', 'occupation_social_science',\n",
    "       'occupation_manufacture_worker', 'occupation_military',\n",
    "       'occupation_farmer', 'occupation_service', 'occupation_management',\n",
    "       'occupation_entertainment', 'occupation_healthcare',\n",
    "       'occupation_unknown', 'industry_agriculture', 'industry_mining',\n",
    "       'industry_manufacture', 'industry_public_service', 'industry_trade',\n",
    "       'industry_finance', 'industry_tech_service', 'industry_entertainment',\n",
    "       'industry_education', 'industry_healthcare', 'industry_other_service',\n",
    "       'industry_admin_military', 'industry_unknown']]\n",
    "y=df_00s_agg['male']"
   ]
  },
  {
   "cell_type": "code",
   "execution_count": 178,
   "metadata": {},
   "outputs": [
    {
     "data": {
      "text/plain": [
       "0.5012606555408813"
      ]
     },
     "execution_count": 178,
     "metadata": {},
     "output_type": "execute_result"
    }
   ],
   "source": [
    "y.mean()"
   ]
  },
  {
   "cell_type": "code",
   "execution_count": 179,
   "metadata": {},
   "outputs": [
    {
     "data": {
      "text/plain": [
       "0.7335573691790687"
      ]
     },
     "execution_count": 179,
     "metadata": {},
     "output_type": "execute_result"
    }
   ],
   "source": [
    "# split training and testing sets\n",
    "X_train, X_test, y_train, y_test = train_test_split(X, y)\n",
    "\n",
    "# initialize classifier\n",
    "classifier = LogisticRegression()\n",
    "classifier.fit(X_train, y_train)\n",
    "score_gen_00s=classifier.score(X_test,y_test)\n",
    "score_gen_00s"
   ]
  },
  {
   "cell_type": "code",
   "execution_count": 89,
   "metadata": {},
   "outputs": [
    {
     "name": "stdout",
     "output_type": "stream",
     "text": [
      "      Prediction  Actual  Confidence score\n",
      "id                                        \n",
      "9368           1       1          0.803457\n",
      "7220           0       0         -0.461426\n",
      "3258           1       1          0.484380\n",
      "2975           1       1          0.319355\n",
      "8098           1       1          2.508199\n",
      "4825           0       1         -0.070508\n",
      "1041           0       0         -3.188001\n",
      "4823           0       1         -0.011867\n",
      "6028           0       0         -0.253123\n",
      "4569           1       1          0.719917\n"
     ]
    }
   ],
   "source": [
    "# get predictions vs true label\n",
    "confidence= classifier.decision_function(X_test)\n",
    "predictions = classifier.predict(X_test)\n",
    "results=pd.DataFrame({\"Prediction\": predictions, \"Actual\": y_test, \"Confidence score\": confidence })\n",
    "print(results.head(10))"
   ]
  },
  {
   "cell_type": "markdown",
   "metadata": {},
   "source": [
    "## By industry? 90's vs 00's"
   ]
  },
  {
   "cell_type": "code",
   "execution_count": 266,
   "metadata": {},
   "outputs": [],
   "source": [
    "# 90's\n",
    "df90s_1= df_m_90s.groupby(['id'])['hourly_wage','tenure','age'].mean()\n",
    "df90s_max= df_m_90s.groupby(['id']).max()\n",
    "del df90s_max['tenure']\n",
    "del df90s_max['age']\n",
    "del df90s_max['hourly_wage']\n",
    "del df90s_max['year']\n",
    "df_90s_agg =df90s_max.join(df90s_1, on='id',how='inner')"
   ]
  },
  {
   "cell_type": "code",
   "execution_count": 267,
   "metadata": {},
   "outputs": [
    {
     "data": {
      "text/plain": [
       "0.7272727272727273"
      ]
     },
     "execution_count": 267,
     "metadata": {},
     "output_type": "execute_result"
    }
   ],
   "source": [
    "# Set X and y \n",
    "X= df_90s_agg[['age', 'tenure', 'hourly_wage',\n",
    "        'country_birth_US', 'race_hispanic', 'race_black', 'race_others', 'region_northeast',\n",
    "       'region_northcentral', 'region_south', 'region_west', 'region_unknown',\n",
    "       'marital_never', 'marital_spouse_present', 'marital_others',\n",
    "       'edu_highschool-', 'edu_highschool', 'edu_undergraduate',\n",
    "       'edu_undergraduate+', 'edu_unknown', 'employment_employed',\n",
    "       'employment_unemployed', 'employment_out_laborforce',\n",
    "       'employment_active', 'employment_unknown','jobs_2-',\n",
    "       'jobs_5', 'jobs_10', 'jobs_10+', 'jobs_unknown', ]]\n",
    "y=df_90s_agg['male']\n",
    "y.mean()"
   ]
  },
  {
   "cell_type": "code",
   "execution_count": 268,
   "metadata": {},
   "outputs": [
    {
     "data": {
      "text/plain": [
       "0.7331838565022422"
      ]
     },
     "execution_count": 268,
     "metadata": {},
     "output_type": "execute_result"
    }
   ],
   "source": [
    "# split training and testing sets\n",
    "X_train, X_test, y_train, y_test = train_test_split(X, y)\n",
    "\n",
    "# initialize classifier\n",
    "classifier = LogisticRegression()\n",
    "classifier.fit(X_train, y_train)\n",
    "score_gen_90s=classifier.score(X_test,y_test)\n",
    "score_gen_90s"
   ]
  },
  {
   "cell_type": "code",
   "execution_count": 269,
   "metadata": {},
   "outputs": [
    {
     "data": {
      "text/plain": [
       "0.7198228128460686"
      ]
     },
     "execution_count": 269,
     "metadata": {},
     "output_type": "execute_result"
    }
   ],
   "source": [
    "# 00's\n",
    "\n",
    "df90s_1= df_m_00s.groupby(['id'])['hourly_wage','tenure','age'].mean()\n",
    "df90s_max= df_m_00s.groupby(['id']).max()\n",
    "del df90s_max['tenure']\n",
    "del df90s_max['age']\n",
    "del df90s_max['hourly_wage']\n",
    "del df90s_max['year']\n",
    "df_00s_agg =df90s_max.join(df90s_1, on='id',how='inner')\n",
    "\n",
    "# Set X and y \n",
    "X= df_00s_agg[['age', 'tenure', 'hourly_wage',\n",
    "        'country_birth_US', 'race_hispanic', 'race_black', 'race_others', 'region_northeast',\n",
    "       'region_northcentral', 'region_south', 'region_west', 'region_unknown',\n",
    "       'marital_never', 'marital_spouse_present', 'marital_others',\n",
    "       'edu_highschool-', 'edu_highschool', 'edu_undergraduate',\n",
    "       'edu_undergraduate+', 'edu_unknown', 'employment_employed',\n",
    "       'employment_unemployed', 'employment_out_laborforce',\n",
    "       'employment_active', 'employment_unknown','jobs_2-',\n",
    "       'jobs_5', 'jobs_10', 'jobs_10+', 'jobs_unknown', ]]\n",
    "y=df_00s_agg['male']\n",
    "y.mean()"
   ]
  },
  {
   "cell_type": "code",
   "execution_count": 270,
   "metadata": {},
   "outputs": [
    {
     "data": {
      "text/plain": [
       "0.7477876106194691"
      ]
     },
     "execution_count": 270,
     "metadata": {},
     "output_type": "execute_result"
    }
   ],
   "source": [
    "# split training and testing sets\n",
    "X_train, X_test, y_train, y_test = train_test_split(X, y)\n",
    "\n",
    "# initialize classifier\n",
    "classifier = LogisticRegression()\n",
    "classifier.fit(X_train, y_train)\n",
    "score_gen_00s=classifier.score(X_test,y_test)\n",
    "score_gen_00s"
   ]
  },
  {
   "cell_type": "code",
   "execution_count": 271,
   "metadata": {},
   "outputs": [],
   "source": [
    "# 90's Public Services\n",
    "df90s_1= df_ps_90s.groupby(['id'])['hourly_wage','tenure','age'].mean()\n",
    "df90s_max= df_ps_90s.groupby(['id']).max()\n",
    "del df90s_max['tenure']\n",
    "del df90s_max['age']\n",
    "del df90s_max['hourly_wage']\n",
    "del df90s_max['year']\n",
    "df_90s_agg =df90s_max.join(df90s_1, on='id',how='inner')"
   ]
  },
  {
   "cell_type": "code",
   "execution_count": 272,
   "metadata": {},
   "outputs": [
    {
     "data": {
      "text/plain": [
       "0.5445492662473794"
      ]
     },
     "execution_count": 272,
     "metadata": {},
     "output_type": "execute_result"
    }
   ],
   "source": [
    "# Set X and y \n",
    "X= df_90s_agg[['age', 'tenure', 'hourly_wage',\n",
    "        'country_birth_US', 'race_hispanic', 'race_black', 'race_others', 'region_northeast',\n",
    "       'region_northcentral', 'region_south', 'region_west', 'region_unknown',\n",
    "       'marital_never', 'marital_spouse_present', 'marital_others',\n",
    "       'edu_highschool-', 'edu_highschool', 'edu_undergraduate',\n",
    "       'edu_undergraduate+', 'edu_unknown', 'employment_employed',\n",
    "       'employment_unemployed', 'employment_out_laborforce',\n",
    "       'employment_active', 'employment_unknown','jobs_2-',\n",
    "       'jobs_5', 'jobs_10', 'jobs_10+', 'jobs_unknown', ]]\n",
    "y=df_90s_agg['male']\n",
    "y.mean()"
   ]
  },
  {
   "cell_type": "code",
   "execution_count": 273,
   "metadata": {},
   "outputs": [
    {
     "data": {
      "text/plain": [
       "0.6561844863731656"
      ]
     },
     "execution_count": 273,
     "metadata": {},
     "output_type": "execute_result"
    }
   ],
   "source": [
    "# split training and testing sets\n",
    "X_train, X_test, y_train, y_test = train_test_split(X, y)\n",
    "\n",
    "# initialize classifier\n",
    "classifier = LogisticRegression()\n",
    "classifier.fit(X_train, y_train)\n",
    "score_gen_90s=classifier.score(X_test,y_test)\n",
    "score_gen_90s"
   ]
  },
  {
   "cell_type": "code",
   "execution_count": 274,
   "metadata": {},
   "outputs": [
    {
     "data": {
      "text/plain": [
       "0.5384615384615384"
      ]
     },
     "execution_count": 274,
     "metadata": {},
     "output_type": "execute_result"
    }
   ],
   "source": [
    "# 00's\n",
    "\n",
    "df90s_1= df_ps_00s.groupby(['id'])['hourly_wage','tenure','age'].mean()\n",
    "df90s_max= df_ps_00s.groupby(['id']).max()\n",
    "del df90s_max['tenure']\n",
    "del df90s_max['age']\n",
    "del df90s_max['hourly_wage']\n",
    "del df90s_max['year']\n",
    "df_00s_agg =df90s_max.join(df90s_1, on='id',how='inner')\n",
    "\n",
    "# Set X and y \n",
    "X= df_00s_agg[['age', 'tenure', 'hourly_wage',\n",
    "        'country_birth_US', 'race_hispanic', 'race_black', 'race_others', 'region_northeast',\n",
    "       'region_northcentral', 'region_south', 'region_west', 'region_unknown',\n",
    "       'marital_never', 'marital_spouse_present', 'marital_others',\n",
    "       'edu_highschool-', 'edu_highschool', 'edu_undergraduate',\n",
    "       'edu_undergraduate+', 'edu_unknown', 'employment_employed',\n",
    "       'employment_unemployed', 'employment_out_laborforce',\n",
    "       'employment_active', 'employment_unknown','jobs_2-',\n",
    "       'jobs_5', 'jobs_10', 'jobs_10+', 'jobs_unknown', ]]\n",
    "y=df_00s_agg['male']\n",
    "y.mean()"
   ]
  },
  {
   "cell_type": "code",
   "execution_count": 276,
   "metadata": {},
   "outputs": [
    {
     "data": {
      "text/plain": [
       "0.6036036036036037"
      ]
     },
     "execution_count": 276,
     "metadata": {},
     "output_type": "execute_result"
    }
   ],
   "source": [
    "# split training and testing sets\n",
    "X_train, X_test, y_train, y_test = train_test_split(X, y)\n",
    "\n",
    "# initialize classifier\n",
    "classifier = LogisticRegression()\n",
    "classifier.fit(X_train, y_train)\n",
    "score_gen_00s=classifier.score(X_test,y_test)\n",
    "score_gen_00s"
   ]
  },
  {
   "cell_type": "markdown",
   "metadata": {},
   "source": [
    "# Race discrimination?"
   ]
  },
  {
   "cell_type": "markdown",
   "metadata": {},
   "source": [
    "## 80's data"
   ]
  },
  {
   "cell_type": "code",
   "execution_count": 180,
   "metadata": {},
   "outputs": [
    {
     "name": "stdout",
     "output_type": "stream",
     "text": [
      "(12017, 52)\n"
     ]
    }
   ],
   "source": [
    "# Set X and y \n",
    "X= df_80s_agg[['age', 'tenure', 'hourly_wage',\n",
    "        'country_birth_US', 'male',\n",
    "       'region_northcentral', 'region_south', 'region_west', 'region_unknown',\n",
    "       'marital_never', 'marital_spouse_present', 'marital_others',\n",
    "       'edu_highschool-', 'edu_highschool', 'edu_undergraduate',\n",
    "       'edu_undergraduate+', 'edu_unknown', 'employment_employed',\n",
    "       'employment_unemployed', 'employment_out_laborforce',\n",
    "       'employment_active', 'employment_unknown','jobs_2-',\n",
    "       'jobs_5', 'jobs_10', 'jobs_10+', 'jobs_unknown', 'occupation_tech',\n",
    "       'occupation_sales', 'occupation_social_science',\n",
    "       'occupation_manufacture_worker', 'occupation_military',\n",
    "       'occupation_farmer', 'occupation_service', 'occupation_management',\n",
    "       'occupation_entertainment', 'occupation_healthcare',\n",
    "       'occupation_unknown', 'industry_agriculture', 'industry_mining',\n",
    "       'industry_manufacture', 'industry_public_service', 'industry_trade',\n",
    "       'industry_finance', 'industry_tech_service', 'industry_entertainment',\n",
    "       'industry_education', 'industry_healthcare', 'industry_other_service',\n",
    "       'industry_admin_military', 'industry_unknown']]\n",
    "print(X.shape)"
   ]
  },
  {
   "cell_type": "code",
   "execution_count": 181,
   "metadata": {},
   "outputs": [
    {
     "name": "stdout",
     "output_type": "stream",
     "text": [
      "(12017,)\n"
     ]
    },
    {
     "name": "stderr",
     "output_type": "stream",
     "text": [
      "/anaconda3/envs/PythonData/lib/python3.6/site-packages/ipykernel_launcher.py:2: SettingWithCopyWarning: \n",
      "A value is trying to be set on a copy of a slice from a DataFrame.\n",
      "Try using .loc[row_indexer,col_indexer] = value instead\n",
      "\n",
      "See the caveats in the documentation: http://pandas.pydata.org/pandas-docs/stable/indexing.html#indexing-view-versus-copy\n",
      "  \n",
      "/anaconda3/envs/PythonData/lib/python3.6/site-packages/ipykernel_launcher.py:3: SettingWithCopyWarning: \n",
      "A value is trying to be set on a copy of a slice from a DataFrame.\n",
      "Try using .loc[row_indexer,col_indexer] = value instead\n",
      "\n",
      "See the caveats in the documentation: http://pandas.pydata.org/pandas-docs/stable/indexing.html#indexing-view-versus-copy\n",
      "  This is separate from the ipykernel package so we can avoid doing imports until\n"
     ]
    }
   ],
   "source": [
    "race=df_80s[['id','race_hispanic', 'race_black', 'race_others']]\n",
    "race['race2']=(race[\"race_black\"]*2)\n",
    "race['race3']= (race[\"race_others\"]*3)\n",
    "race= race.assign(All = lambda x: x['race_hispanic']+ x['race2']+ x['race3'])\n",
    "y=race.groupby(['id'])['All'].max()\n",
    "print(y.shape)"
   ]
  },
  {
   "cell_type": "code",
   "execution_count": 182,
   "metadata": {},
   "outputs": [
    {
     "data": {
      "text/plain": [
       "count    12017.000000\n",
       "mean         2.434884\n",
       "std          0.750571\n",
       "min          1.000000\n",
       "25%          2.000000\n",
       "50%          3.000000\n",
       "75%          3.000000\n",
       "max          3.000000\n",
       "Name: All, dtype: float64"
      ]
     },
     "execution_count": 182,
     "metadata": {},
     "output_type": "execute_result"
    }
   ],
   "source": [
    "y.describe()"
   ]
  },
  {
   "cell_type": "code",
   "execution_count": 183,
   "metadata": {},
   "outputs": [
    {
     "data": {
      "text/plain": [
       "0.6455906821963394"
      ]
     },
     "execution_count": 183,
     "metadata": {},
     "output_type": "execute_result"
    }
   ],
   "source": [
    "# split training and testing sets\n",
    "X_train, X_test, y_train, y_test = train_test_split(X, y)\n",
    "\n",
    "# initialize classifier\n",
    "classifier = LogisticRegression()\n",
    "\n",
    "classifier.fit(X_train, y_train)\n",
    "\n",
    "score_race_80s=classifier.score(X_test,y_test)\n",
    "score_race_80s"
   ]
  },
  {
   "cell_type": "code",
   "execution_count": null,
   "metadata": {},
   "outputs": [],
   "source": [
    "# get predictions vs true label\n",
    "confidence= classifier.decision_function(X_test)\n",
    "predictions = classifier.predict(X_test)\n",
    "results=pd.DataFrame({\"Prediction\": predictions, \"Actual\": y_test, \"Confidence_hispanic\": confidence[:,0], \"Confidence_black\": confidence[:,1],\"Confidence_others\": confidence[:,2] })\n",
    "print(results.head(10))"
   ]
  },
  {
   "cell_type": "markdown",
   "metadata": {},
   "source": [
    "## 90's data\n"
   ]
  },
  {
   "cell_type": "code",
   "execution_count": 184,
   "metadata": {},
   "outputs": [
    {
     "name": "stdout",
     "output_type": "stream",
     "text": [
      "(10248, 52)\n"
     ]
    }
   ],
   "source": [
    "# Set X and y \n",
    "X= df_90s_agg[['age', 'tenure', 'hourly_wage',\n",
    "        'country_birth_US', 'male',\n",
    "       'region_northcentral', 'region_south', 'region_west', 'region_unknown',\n",
    "       'marital_never', 'marital_spouse_present', 'marital_others',\n",
    "       'edu_highschool-', 'edu_highschool', 'edu_undergraduate',\n",
    "       'edu_undergraduate+', 'edu_unknown', 'employment_employed',\n",
    "       'employment_unemployed', 'employment_out_laborforce',\n",
    "       'employment_active', 'employment_unknown', 'jobs_2-',\n",
    "       'jobs_5', 'jobs_10', 'jobs_10+', 'jobs_unknown', 'occupation_tech',\n",
    "       'occupation_sales', 'occupation_social_science',\n",
    "       'occupation_manufacture_worker', 'occupation_military',\n",
    "       'occupation_farmer', 'occupation_service', 'occupation_management',\n",
    "       'occupation_entertainment', 'occupation_healthcare',\n",
    "       'occupation_unknown', 'industry_agriculture', 'industry_mining',\n",
    "       'industry_manufacture', 'industry_public_service', 'industry_trade',\n",
    "       'industry_finance', 'industry_tech_service', 'industry_entertainment',\n",
    "       'industry_education', 'industry_healthcare', 'industry_other_service',\n",
    "       'industry_admin_military', 'industry_unknown']]\n",
    "print(X.shape)"
   ]
  },
  {
   "cell_type": "code",
   "execution_count": 185,
   "metadata": {},
   "outputs": [
    {
     "name": "stdout",
     "output_type": "stream",
     "text": [
      "(10248,)\n"
     ]
    },
    {
     "name": "stderr",
     "output_type": "stream",
     "text": [
      "/anaconda3/envs/PythonData/lib/python3.6/site-packages/ipykernel_launcher.py:2: SettingWithCopyWarning: \n",
      "A value is trying to be set on a copy of a slice from a DataFrame.\n",
      "Try using .loc[row_indexer,col_indexer] = value instead\n",
      "\n",
      "See the caveats in the documentation: http://pandas.pydata.org/pandas-docs/stable/indexing.html#indexing-view-versus-copy\n",
      "  \n",
      "/anaconda3/envs/PythonData/lib/python3.6/site-packages/ipykernel_launcher.py:3: SettingWithCopyWarning: \n",
      "A value is trying to be set on a copy of a slice from a DataFrame.\n",
      "Try using .loc[row_indexer,col_indexer] = value instead\n",
      "\n",
      "See the caveats in the documentation: http://pandas.pydata.org/pandas-docs/stable/indexing.html#indexing-view-versus-copy\n",
      "  This is separate from the ipykernel package so we can avoid doing imports until\n"
     ]
    }
   ],
   "source": [
    "race=df_90s[['id','race_hispanic', 'race_black', 'race_others']]\n",
    "race['race2']=(race[\"race_black\"]*2)\n",
    "race['race3']= (race[\"race_others\"]*3)\n",
    "race= race.assign(All = lambda x: x['race_hispanic']+ x['race2']+ x['race3'])\n",
    "y=race.groupby(['id'])['All'].max()\n",
    "print(y.shape)"
   ]
  },
  {
   "cell_type": "code",
   "execution_count": 186,
   "metadata": {},
   "outputs": [
    {
     "data": {
      "text/plain": [
       "count    10248.000000\n",
       "mean         2.393735\n",
       "std          0.762155\n",
       "min          1.000000\n",
       "25%          2.000000\n",
       "50%          3.000000\n",
       "75%          3.000000\n",
       "max          3.000000\n",
       "Name: All, dtype: float64"
      ]
     },
     "execution_count": 186,
     "metadata": {},
     "output_type": "execute_result"
    }
   ],
   "source": [
    "y.describe()"
   ]
  },
  {
   "cell_type": "code",
   "execution_count": 187,
   "metadata": {},
   "outputs": [
    {
     "data": {
      "text/plain": [
       "0.6545667447306791"
      ]
     },
     "execution_count": 187,
     "metadata": {},
     "output_type": "execute_result"
    }
   ],
   "source": [
    "# split training and testing sets\n",
    "X_train, X_test, y_train, y_test = train_test_split(X, y)\n",
    "\n",
    "# initialize classifier\n",
    "classifier = LogisticRegression()\n",
    "\n",
    "classifier.fit(X_train, y_train)\n",
    "score_race_90s=classifier.score(X_test,y_test)\n",
    "score_race_90s"
   ]
  },
  {
   "cell_type": "code",
   "execution_count": 98,
   "metadata": {},
   "outputs": [],
   "source": [
    "# get predictions vs true label\n",
    "confidence= classifier.decision_function(X_test)\n",
    "predictions = classifier.predict(X_test)\n",
    "results=pd.DataFrame({\"Prediction\": predictions, \"Actual\": y_test, \"Confidence_hispanic\": confidence[:,0], \"Confidence_black\": confidence[:,1],\"Confidence_others\": confidence[:,2] })\n",
    "print(results.head(10))"
   ]
  },
  {
   "cell_type": "markdown",
   "metadata": {},
   "source": [
    "## 00's data"
   ]
  },
  {
   "cell_type": "code",
   "execution_count": 188,
   "metadata": {},
   "outputs": [
    {
     "name": "stdout",
     "output_type": "stream",
     "text": [
      "(8329, 52)\n"
     ]
    }
   ],
   "source": [
    "# Set X and y \n",
    "X= df_00s_agg[['age', 'tenure', 'hourly_wage',\n",
    "        'country_birth_US', 'male',\n",
    "       'region_northcentral', 'region_south', 'region_west', 'region_unknown',\n",
    "       'marital_never', 'marital_spouse_present', 'marital_others',\n",
    "       'edu_highschool-', 'edu_highschool', 'edu_undergraduate',\n",
    "       'edu_undergraduate+', 'edu_unknown', 'employment_employed',\n",
    "       'employment_unemployed', 'employment_out_laborforce',\n",
    "       'employment_active', 'employment_unknown', 'jobs_2-',\n",
    "       'jobs_5', 'jobs_10', 'jobs_10+', 'jobs_unknown', 'occupation_tech',\n",
    "       'occupation_sales', 'occupation_social_science',\n",
    "       'occupation_manufacture_worker', 'occupation_military',\n",
    "       'occupation_farmer', 'occupation_service', 'occupation_management',\n",
    "       'occupation_entertainment', 'occupation_healthcare',\n",
    "       'occupation_unknown', 'industry_agriculture', 'industry_mining',\n",
    "       'industry_manufacture', 'industry_public_service', 'industry_trade',\n",
    "       'industry_finance', 'industry_tech_service', 'industry_entertainment',\n",
    "       'industry_education', 'industry_healthcare', 'industry_other_service',\n",
    "       'industry_admin_military', 'industry_unknown']]\n",
    "print(X.shape)"
   ]
  },
  {
   "cell_type": "code",
   "execution_count": 189,
   "metadata": {},
   "outputs": [
    {
     "name": "stdout",
     "output_type": "stream",
     "text": [
      "(8329,)\n"
     ]
    },
    {
     "name": "stderr",
     "output_type": "stream",
     "text": [
      "/anaconda3/envs/PythonData/lib/python3.6/site-packages/ipykernel_launcher.py:2: SettingWithCopyWarning: \n",
      "A value is trying to be set on a copy of a slice from a DataFrame.\n",
      "Try using .loc[row_indexer,col_indexer] = value instead\n",
      "\n",
      "See the caveats in the documentation: http://pandas.pydata.org/pandas-docs/stable/indexing.html#indexing-view-versus-copy\n",
      "  \n",
      "/anaconda3/envs/PythonData/lib/python3.6/site-packages/ipykernel_launcher.py:3: SettingWithCopyWarning: \n",
      "A value is trying to be set on a copy of a slice from a DataFrame.\n",
      "Try using .loc[row_indexer,col_indexer] = value instead\n",
      "\n",
      "See the caveats in the documentation: http://pandas.pydata.org/pandas-docs/stable/indexing.html#indexing-view-versus-copy\n",
      "  This is separate from the ipykernel package so we can avoid doing imports until\n"
     ]
    }
   ],
   "source": [
    "race=df_00s[['id','race_hispanic', 'race_black', 'race_others']]\n",
    "race['race2']=(race[\"race_black\"]*2)\n",
    "race['race3']= (race[\"race_others\"]*3)\n",
    "race= race.assign(All = lambda x: x['race_hispanic']+ x['race2']+ x['race3'])\n",
    "y=race.groupby(['id'])['All'].max()\n",
    "print(y.shape)"
   ]
  },
  {
   "cell_type": "code",
   "execution_count": 190,
   "metadata": {},
   "outputs": [
    {
     "data": {
      "text/plain": [
       "count    8329.000000\n",
       "mean        2.310722\n",
       "std         0.774988\n",
       "min         1.000000\n",
       "25%         2.000000\n",
       "50%         3.000000\n",
       "75%         3.000000\n",
       "max         3.000000\n",
       "Name: All, dtype: float64"
      ]
     },
     "execution_count": 190,
     "metadata": {},
     "output_type": "execute_result"
    }
   ],
   "source": [
    "y.describe()"
   ]
  },
  {
   "cell_type": "code",
   "execution_count": 191,
   "metadata": {},
   "outputs": [],
   "source": [
    "# split training and testing sets\n",
    "X_train, X_test, y_train, y_test = train_test_split(X, y)"
   ]
  },
  {
   "cell_type": "code",
   "execution_count": 192,
   "metadata": {},
   "outputs": [
    {
     "data": {
      "text/plain": [
       "0.6442630820931349"
      ]
     },
     "execution_count": 192,
     "metadata": {},
     "output_type": "execute_result"
    }
   ],
   "source": [
    "# initialize classifier\n",
    "classifier = LogisticRegression()\n",
    "\n",
    "classifier.fit(X_train, y_train)\n",
    "\n",
    "score_race_00s=classifier.score(X_test,y_test)\n",
    "score_race_00s"
   ]
  },
  {
   "cell_type": "code",
   "execution_count": 116,
   "metadata": {},
   "outputs": [],
   "source": [
    "# get predictions vs true label\n",
    "confidence= classifier.decision_function(X_test)\n",
    "predictions = classifier.predict(X_test)\n",
    "results=pd.DataFrame({\"Prediction\": predictions, \"Actual\": y_test, \"Confidence_hispanic\": confidence[:,0], \"Confidence_black\": confidence[:,1],\"Confidence_others\": confidence[:,2] })\n",
    "print(results.head(10))"
   ]
  },
  {
   "cell_type": "markdown",
   "metadata": {},
   "source": [
    "# Unsupervised learning\n",
    "## Clustering\n",
    "We will use k-means to see if there are clear clusters in the data which may lead to discrimination insights"
   ]
  },
  {
   "cell_type": "code",
   "execution_count": 193,
   "metadata": {},
   "outputs": [],
   "source": [
    "full_80s= df_80s_agg[['male', 'country_birth_US', 'race_hispanic', 'race_black', 'race_others',\n",
    "       'region_northeast', 'region_northcentral', 'region_south',\n",
    "       'region_west', 'region_unknown', 'marital_never',\n",
    "       'marital_spouse_present', 'marital_others', 'edu_highschool-',\n",
    "       'edu_highschool', 'edu_undergraduate', 'edu_undergraduate+',\n",
    "       'edu_unknown', 'employment_employed', 'employment_unemployed',\n",
    "       'employment_out_laborforce', 'employment_active', 'employment_unknown',\n",
    "        'jobs_2-', 'jobs_5', 'jobs_10', 'jobs_10+',\n",
    "       'jobs_unknown', 'occupation_tech', 'occupation_sales',\n",
    "       'occupation_social_science', 'occupation_manufacture_worker',\n",
    "       'occupation_military', 'occupation_farmer', 'occupation_service',\n",
    "       'occupation_management', 'occupation_entertainment',\n",
    "       'occupation_healthcare', 'occupation_unknown', 'industry_agriculture',\n",
    "       'industry_mining', 'industry_manufacture', 'industry_public_service',\n",
    "       'industry_trade', 'industry_finance', 'industry_tech_service',\n",
    "       'industry_entertainment', 'industry_education', 'industry_healthcare',\n",
    "       'industry_other_service', 'industry_admin_military', 'industry_unknown',\n",
    "        'hourly_wage', 'tenure', 'age']]"
   ]
  },
  {
   "cell_type": "code",
   "execution_count": 210,
   "metadata": {},
   "outputs": [
    {
     "data": {
      "text/plain": [
       "(12017, 55)"
      ]
     },
     "execution_count": 210,
     "metadata": {},
     "output_type": "execute_result"
    }
   ],
   "source": [
    "full_80s.shape"
   ]
  },
  {
   "cell_type": "code",
   "execution_count": 233,
   "metadata": {},
   "outputs": [],
   "source": [
    "# split training and testing sets\n",
    "X_train, X_test= train_test_split(full_80s)"
   ]
  },
  {
   "cell_type": "code",
   "execution_count": 234,
   "metadata": {},
   "outputs": [],
   "source": [
    "kmeans2 = KMeans(n_clusters=2, max_iter=500).fit(X_train)\n",
    "kmeans3 = KMeans(n_clusters=3, max_iter=500).fit(X_train)\n",
    "\n",
    "kmeans5 = KMeans(n_clusters=5, max_iter=500).fit(X_train)\n",
    "kmeans8 = KMeans(n_clusters=8, max_iter=500).fit(X_train)\n",
    "kmeans12 = KMeans(n_clusters=12, max_iter=500).fit(X_train)"
   ]
  },
  {
   "cell_type": "code",
   "execution_count": 235,
   "metadata": {},
   "outputs": [
    {
     "name": "stdout",
     "output_type": "stream",
     "text": [
      "2 Clusters: -12036758887.979412, 3 Clusters: -10364190929.007359, 5 Clusters: -1791617052.8054478\n",
      "8 Clusters: -862712931.2867454, 12 Clusters: -373758606.6211225\n"
     ]
    }
   ],
   "source": [
    "\n",
    "score2_80s=kmeans2.score(X_test)\n",
    "score3_80s=kmeans3.score(X_test)\n",
    "score5_80s=kmeans5.score(X_test)\n",
    "score8_80s=kmeans8.score(X_test)\n",
    "score12_80s=kmeans12.score(X_test)\n",
    "print(f'2 Clusters: {score2_80s}, 3 Clusters: {score3_80s}, 5 Clusters: {score5_80s}')\n",
    "print(f'8 Clusters: {score8_80s}, 12 Clusters: {score12_80s}')"
   ]
  },
  {
   "cell_type": "markdown",
   "metadata": {},
   "source": [
    "## 90's data"
   ]
  },
  {
   "cell_type": "code",
   "execution_count": 198,
   "metadata": {},
   "outputs": [],
   "source": [
    "full_90s= df_90s_agg[['male', 'country_birth_US', 'race_hispanic', 'race_black', 'race_others',\n",
    "       'region_northeast', 'region_northcentral', 'region_south',\n",
    "       'region_west', 'region_unknown', 'marital_never',\n",
    "       'marital_spouse_present', 'marital_others', 'edu_highschool-',\n",
    "       'edu_highschool', 'edu_undergraduate', 'edu_undergraduate+',\n",
    "       'edu_unknown', 'employment_employed', 'employment_unemployed',\n",
    "       'employment_out_laborforce', 'employment_active', 'employment_unknown',\n",
    "        'jobs_2-', 'jobs_5', 'jobs_10', 'jobs_10+',\n",
    "       'jobs_unknown', 'occupation_tech', 'occupation_sales',\n",
    "       'occupation_social_science', 'occupation_manufacture_worker',\n",
    "       'occupation_military', 'occupation_farmer', 'occupation_service',\n",
    "       'occupation_management', 'occupation_entertainment',\n",
    "       'occupation_healthcare', 'occupation_unknown', 'industry_agriculture',\n",
    "       'industry_mining', 'industry_manufacture', 'industry_public_service',\n",
    "       'industry_trade', 'industry_finance', 'industry_tech_service',\n",
    "       'industry_entertainment', 'industry_education', 'industry_healthcare',\n",
    "       'industry_other_service', 'industry_admin_military', 'industry_unknown',\n",
    "        'hourly_wage', 'tenure', 'age']]"
   ]
  },
  {
   "cell_type": "code",
   "execution_count": 226,
   "metadata": {},
   "outputs": [],
   "source": [
    "# split training and testing sets\n",
    "X_train, X_test= train_test_split(full_90s)"
   ]
  },
  {
   "cell_type": "code",
   "execution_count": 227,
   "metadata": {},
   "outputs": [],
   "source": [
    "kmeans2 = KMeans(n_clusters=2, max_iter=500).fit(X_train)\n",
    "kmeans3 = KMeans(n_clusters=3, max_iter=500).fit(X_train)\n",
    "\n",
    "kmeans5 = KMeans(n_clusters=5, max_iter=500).fit(X_train)\n",
    "kmeans8 = KMeans(n_clusters=8, max_iter=500).fit(X_train)\n",
    "kmeans12 = KMeans(n_clusters=12, max_iter=500).fit(X_train)"
   ]
  },
  {
   "cell_type": "code",
   "execution_count": 231,
   "metadata": {},
   "outputs": [
    {
     "name": "stdout",
     "output_type": "stream",
     "text": [
      "2 Clusters: -800016840102.57, 3 Clusters: -526133032686.537, 5 Clusters: -522759539777.9159\n",
      "8 Clusters: -412333148967.5574, 12 Clusters: -411029105713.47217\n"
     ]
    }
   ],
   "source": [
    "score2_90s=kmeans2.score(X_test)\n",
    "score3_90s=kmeans3.score(X_test)\n",
    "score5_90s=kmeans5.score(X_test)\n",
    "score8_90s=kmeans8.score(X_test)\n",
    "score12_90s=kmeans12.score(X_test)\n",
    "print(f'2 Clusters: {score2_90s}, 3 Clusters: {score3_90s}, 5 Clusters: {score5_90s}')\n",
    "print(f'8 Clusters: {score8_90s}, 12 Clusters: {score12_90s}')"
   ]
  },
  {
   "cell_type": "markdown",
   "metadata": {},
   "source": [
    "## 00's data"
   ]
  },
  {
   "cell_type": "code",
   "execution_count": 203,
   "metadata": {},
   "outputs": [],
   "source": [
    "full_00s= df_00s_agg[['male', 'country_birth_US', 'race_hispanic', 'race_black', 'race_others',\n",
    "       'region_northeast', 'region_northcentral', 'region_south',\n",
    "       'region_west', 'region_unknown', 'marital_never',\n",
    "       'marital_spouse_present', 'marital_others', 'edu_highschool-',\n",
    "       'edu_highschool', 'edu_undergraduate', 'edu_undergraduate+',\n",
    "       'edu_unknown', 'employment_employed', 'employment_unemployed',\n",
    "       'employment_out_laborforce', 'employment_active', 'employment_unknown',\n",
    "        'jobs_2-', 'jobs_5', 'jobs_10', 'jobs_10+',\n",
    "       'jobs_unknown', 'occupation_tech', 'occupation_sales',\n",
    "       'occupation_social_science', 'occupation_manufacture_worker',\n",
    "       'occupation_military', 'occupation_farmer', 'occupation_service',\n",
    "       'occupation_management', 'occupation_entertainment',\n",
    "       'occupation_healthcare', 'occupation_unknown', 'industry_agriculture',\n",
    "       'industry_mining', 'industry_manufacture', 'industry_public_service',\n",
    "       'industry_trade', 'industry_finance', 'industry_tech_service',\n",
    "       'industry_entertainment', 'industry_education', 'industry_healthcare',\n",
    "       'industry_other_service', 'industry_admin_military', 'industry_unknown',\n",
    "        'hourly_wage', 'tenure', 'age']]"
   ]
  },
  {
   "cell_type": "code",
   "execution_count": 224,
   "metadata": {},
   "outputs": [],
   "source": [
    "# split training and testing sets\n",
    "X_train, X_test= train_test_split(full_00s)\n",
    "\n",
    "kmeans2 = KMeans(n_clusters=2, max_iter=500).fit(X_train)\n",
    "kmeans3 = KMeans(n_clusters=3, max_iter=500).fit(X_train)\n",
    "\n",
    "kmeans5 = KMeans(n_clusters=5, max_iter=500).fit(X_train)\n",
    "kmeans8 = KMeans(n_clusters=8, max_iter=500).fit(X_train)\n",
    "kmeans12 = KMeans(n_clusters=12, max_iter=500).fit(X_train)\n",
    "kmeans20 = KMeans(n_clusters=20, max_iter=500).fit(X_train)"
   ]
  },
  {
   "cell_type": "code",
   "execution_count": 225,
   "metadata": {},
   "outputs": [
    {
     "name": "stdout",
     "output_type": "stream",
     "text": [
      "2 Clusters: -11273893421.565367, 3 Clusters: -7244932070.462444, 5 Clusters: -2087414786.3423307\n",
      "8 Clusters: -741004694.7123319, 12 Clusters: -469410188.8905561, 20 Clusters: -275388552.5507673\n"
     ]
    }
   ],
   "source": [
    "score2_00s=kmeans2.score(X_test)\n",
    "score3_00s=kmeans3.score(X_test)\n",
    "score5_00s=kmeans5.score(X_test)\n",
    "score8_00s=kmeans8.score(X_test)\n",
    "score12_00s=kmeans12.score(X_test)\n",
    "score20_00s=kmeans20.score(X_test)\n",
    "print(f'2 Clusters: {score2_00s}, 3 Clusters: {score3_00s}, 5 Clusters: {score5_00s}')\n",
    "print(f'8 Clusters: {score8_00s}, 12 Clusters: {score12_00s}, 20 Clusters: {score20_00s}')"
   ]
  },
  {
   "cell_type": "code",
   "execution_count": 277,
   "metadata": {},
   "outputs": [],
   "source": [
    "full_00s= df_00s_agg[['male', 'country_birth_US', 'race_hispanic', 'race_black', 'race_others',\n",
    "       'region_northeast', 'region_northcentral', 'region_south',\n",
    "       'region_west', 'region_unknown', 'marital_never',\n",
    "       'marital_spouse_present', 'marital_others', 'edu_highschool-',\n",
    "       'edu_highschool', 'edu_undergraduate', 'edu_undergraduate+',\n",
    "       'edu_unknown', 'employment_employed', 'employment_unemployed',\n",
    "       'employment_out_laborforce', 'employment_active', 'employment_unknown',\n",
    "        'jobs_2-', 'jobs_5', 'jobs_10', 'jobs_10+',\n",
    "       'jobs_unknown', 'hourly_wage', 'tenure', 'age']]"
   ]
  },
  {
   "cell_type": "code",
   "execution_count": 278,
   "metadata": {},
   "outputs": [],
   "source": [
    "# split training and testing sets\n",
    "X_train, X_test= train_test_split(full_00s)\n",
    "\n",
    "kmeans2 = KMeans(n_clusters=2, max_iter=500).fit(X_train)\n",
    "kmeans3 = KMeans(n_clusters=3, max_iter=500).fit(X_train)\n",
    "\n",
    "kmeans5 = KMeans(n_clusters=5, max_iter=500).fit(X_train)\n",
    "kmeans8 = KMeans(n_clusters=8, max_iter=500).fit(X_train)\n",
    "kmeans12 = KMeans(n_clusters=12, max_iter=500).fit(X_train)\n",
    "kmeans20 = KMeans(n_clusters=20, max_iter=500).fit(X_train)"
   ]
  },
  {
   "cell_type": "code",
   "execution_count": 279,
   "metadata": {},
   "outputs": [
    {
     "name": "stdout",
     "output_type": "stream",
     "text": [
      "2 Clusters: -1243424995.441907, 3 Clusters: -651267549.996424, 5 Clusters: -320155587.9191253\n",
      "8 Clusters: -228502380.0115912, 12 Clusters: -122969456.31980956, 20 Clusters: -76178230.898972\n"
     ]
    }
   ],
   "source": [
    "score2_00s=kmeans2.score(X_test)\n",
    "score3_00s=kmeans3.score(X_test)\n",
    "score5_00s=kmeans5.score(X_test)\n",
    "score8_00s=kmeans8.score(X_test)\n",
    "score12_00s=kmeans12.score(X_test)\n",
    "score20_00s=kmeans20.score(X_test)\n",
    "print(f'2 Clusters: {score2_00s}, 3 Clusters: {score3_00s}, 5 Clusters: {score5_00s}')\n",
    "print(f'8 Clusters: {score8_00s}, 12 Clusters: {score12_00s}, 20 Clusters: {score20_00s}')"
   ]
  },
  {
   "cell_type": "code",
   "execution_count": null,
   "metadata": {},
   "outputs": [],
   "source": []
  }
 ],
 "metadata": {
  "kernelspec": {
   "display_name": "Python 3",
   "language": "python",
   "name": "python3"
  },
  "language_info": {
   "codemirror_mode": {
    "name": "ipython",
    "version": 3
   },
   "file_extension": ".py",
   "mimetype": "text/x-python",
   "name": "python",
   "nbconvert_exporter": "python",
   "pygments_lexer": "ipython3",
   "version": "3.6.5"
  }
 },
 "nbformat": 4,
 "nbformat_minor": 2
}
